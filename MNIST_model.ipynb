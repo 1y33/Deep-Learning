{
  "cells": [
    {
      "cell_type": "markdown",
      "metadata": {
        "id": "view-in-github",
        "colab_type": "text"
      },
      "source": [
        "<a href=\"https://colab.research.google.com/github/1y33/Deep-Learning/blob/main/MNIST_model.ipynb\" target=\"_parent\"><img src=\"https://colab.research.google.com/assets/colab-badge.svg\" alt=\"Open In Colab\"/></a>"
      ]
    },
    {
      "cell_type": "code",
      "execution_count": 43,
      "metadata": {
        "id": "qcTF4s1_ZvdI"
      },
      "outputs": [],
      "source": [
        "import torch\n",
        "from torch import nn\n",
        "\n",
        "import torchvision\n",
        "from torchvision import datasets\n",
        "from torchvision.transforms import ToTensor\n",
        "\n",
        "import matplotlib.pyplot as plt\n",
        "\n",
        "device=\"cuda\" if torch.cuda.is_available() else \"cpu\""
      ]
    },
    {
      "cell_type": "code",
      "source": [
        "train_data=datasets.EMNIST(\n",
        "    root=\"data\",\n",
        "    split=\"digits\",\n",
        "    train=True,\n",
        "    download=True,\n",
        "    transform=ToTensor(),\n",
        "    target_transform=None\n",
        ")\n",
        "\n",
        "test_data=datasets.EMNIST(\n",
        "    root=\"data\",\n",
        "    split=\"digits\",\n",
        "    download=True,\n",
        "    transform=ToTensor()\n",
        ")"
      ],
      "metadata": {
        "id": "-OisMY6XaMmJ"
      },
      "execution_count": 72,
      "outputs": []
    },
    {
      "cell_type": "code",
      "source": [
        "from torch.utils.data.dataloader import DataLoader\n",
        "train_dataloader=DataLoader(train_data,\n",
        "                            batch_size=32,\n",
        "                            shuffle=True,)\n",
        "test_dataloader=DataLoader(test_data,\n",
        "                           batch_size=32,\n",
        "                           shuffle=True)"
      ],
      "metadata": {
        "id": "g2W-QRroh1Rb"
      },
      "execution_count": 73,
      "outputs": []
    },
    {
      "cell_type": "code",
      "source": [
        "classes=train_data.classes\n",
        "len(classes)"
      ],
      "metadata": {
        "colab": {
          "base_uri": "https://localhost:8080/"
        },
        "id": "PxW20SFGa1Tv",
        "outputId": "83275093-487a-46b1-e3c4-4204b3e4dbee"
      },
      "execution_count": 74,
      "outputs": [
        {
          "output_type": "execute_result",
          "data": {
            "text/plain": [
              "10"
            ]
          },
          "metadata": {},
          "execution_count": 74
        }
      ]
    },
    {
      "cell_type": "code",
      "source": [
        "image,label=train_data[0]"
      ],
      "metadata": {
        "id": "1CiczR_Ua5cZ"
      },
      "execution_count": 75,
      "outputs": []
    },
    {
      "cell_type": "code",
      "source": [
        "plt.imshow(image.squeeze(0),cmap=\"gray\")"
      ],
      "metadata": {
        "colab": {
          "base_uri": "https://localhost:8080/",
          "height": 447
        },
        "id": "zq3LHxcga7dA",
        "outputId": "b2dc4170-1523-40ea-aa3f-8bc02b620aff"
      },
      "execution_count": 76,
      "outputs": [
        {
          "output_type": "execute_result",
          "data": {
            "text/plain": [
              "<matplotlib.image.AxesImage at 0x799d070896f0>"
            ]
          },
          "metadata": {},
          "execution_count": 76
        },
        {
          "output_type": "display_data",
          "data": {
            "text/plain": [
              "<Figure size 640x480 with 1 Axes>"
            ],
            "image/png": "[encoded data removed]"
          },
          "metadata": {}
        }
      ]
    },
    {
      "cell_type": "code",
      "source": [
        "class cnn_model(nn.Module):\n",
        "    def __init__(self):\n",
        "        super().__init__()\n",
        "        self.conv1 = nn.Sequential(nn.Conv2d(1, 32, kernel_size=3, padding=1),\n",
        "                                  nn.BatchNorm2d(32),\n",
        "                                  nn.ReLU(inplace=True))\n",
        "        self.conv2 = nn.Sequential(nn.Conv2d(32, 64, kernel_size=3, padding=1),\n",
        "                                  nn.BatchNorm2d(64),\n",
        "                                  nn.ReLU(inplace=True),\n",
        "                                  nn.MaxPool2d(2))\n",
        "        self.res1 = nn.Sequential(nn.Conv2d(64, 64, kernel_size=3, padding=1),\n",
        "                                  nn.ReLU(inplace=True),\n",
        "                                  nn.Conv2d(64, 64, kernel_size=3, padding=1),\n",
        "                                  nn.ReLU(inplace=True))\n",
        "        self.conv3 = nn.Sequential(nn.Conv2d(64, 128, kernel_size=3, padding=1),\n",
        "                                  nn.BatchNorm2d(128),\n",
        "                                  nn.ReLU(inplace=True))\n",
        "        self.conv4 = nn.Sequential(nn.Conv2d(128, 256, kernel_size=3, padding=1),\n",
        "                                  nn.BatchNorm2d(256),\n",
        "                                  nn.ReLU(inplace=True),\n",
        "                                  nn.MaxPool2d(2))\n",
        "        self.res2 = nn.Sequential(nn.Conv2d(256, 256, kernel_size=3, padding=1),\n",
        "                                  nn.ReLU(inplace=True),\n",
        "                                  nn.Conv2d(256, 256, kernel_size=3, padding=1),\n",
        "                                  nn.ReLU(inplace=True))\n",
        "        self.classifier = nn.Sequential(nn.Flatten(),\n",
        "                          nn.Linear(256*7*7, 1024),\n",
        "                          nn.ReLU(),\n",
        "                          nn.Linear(1024, 256),\n",
        "                          nn.ReLU(),\n",
        "                          nn.Linear(256, 26)\n",
        "        )\n",
        "\n",
        "    def forward(self, xb):\n",
        "        out = self.conv1(xb)\n",
        "        out = self.conv2(out)\n",
        "        out = self.res1(out) + out\n",
        "        out = self.conv3(out)\n",
        "        out = self.conv4(out)\n",
        "        out = self.res2(out) + out\n",
        "        out = self.classifier(out)\n",
        "        return out"
      ],
      "metadata": {
        "id": "zhiI_dUBbTzk"
      },
      "execution_count": 77,
      "outputs": []
    },
    {
      "cell_type": "code",
      "source": [
        "model = cnn_model().to(device)\n",
        "model"
      ],
      "metadata": {
        "id": "lcIukUjFbn_j",
        "colab": {
          "base_uri": "https://localhost:8080/"
        },
        "outputId": "34ea355c-6a0d-4f1e-f6e8-f6df34af5de5"
      },
      "execution_count": 78,
      "outputs": [
        {
          "output_type": "execute_result",
          "data": {
            "text/plain": [
              "cnn_model(\n",
              "  (conv1): Sequential(\n",
              "    (0): Conv2d(1, 32, kernel_size=(3, 3), stride=(1, 1), padding=(1, 1))\n",
              "    (1): BatchNorm2d(32, eps=1e-05, momentum=0.1, affine=True, track_running_stats=True)\n",
              "    (2): ReLU(inplace=True)\n",
              "  )\n",
              "  (conv2): Sequential(\n",
              "    (0): Conv2d(32, 64, kernel_size=(3, 3), stride=(1, 1), padding=(1, 1))\n",
              "    (1): BatchNorm2d(64, eps=1e-05, momentum=0.1, affine=True, track_running_stats=True)\n",
              "    (2): ReLU(inplace=True)\n",
              "    (3): MaxPool2d(kernel_size=2, stride=2, padding=0, dilation=1, ceil_mode=False)\n",
              "  )\n",
              "  (res1): Sequential(\n",
              "    (0): Conv2d(64, 64, kernel_size=(3, 3), stride=(1, 1), padding=(1, 1))\n",
              "    (1): ReLU(inplace=True)\n",
              "    (2): Conv2d(64, 64, kernel_size=(3, 3), stride=(1, 1), padding=(1, 1))\n",
              "    (3): ReLU(inplace=True)\n",
              "  )\n",
              "  (conv3): Sequential(\n",
              "    (0): Conv2d(64, 128, kernel_size=(3, 3), stride=(1, 1), padding=(1, 1))\n",
              "    (1): BatchNorm2d(128, eps=1e-05, momentum=0.1, affine=True, track_running_stats=True)\n",
              "    (2): ReLU(inplace=True)\n",
              "  )\n",
              "  (conv4): Sequential(\n",
              "    (0): Conv2d(128, 256, kernel_size=(3, 3), stride=(1, 1), padding=(1, 1))\n",
              "    (1): BatchNorm2d(256, eps=1e-05, momentum=0.1, affine=True, track_running_stats=True)\n",
              "    (2): ReLU(inplace=True)\n",
              "    (3): MaxPool2d(kernel_size=2, stride=2, padding=0, dilation=1, ceil_mode=False)\n",
              "  )\n",
              "  (res2): Sequential(\n",
              "    (0): Conv2d(256, 256, kernel_size=(3, 3), stride=(1, 1), padding=(1, 1))\n",
              "    (1): ReLU(inplace=True)\n",
              "    (2): Conv2d(256, 256, kernel_size=(3, 3), stride=(1, 1), padding=(1, 1))\n",
              "    (3): ReLU(inplace=True)\n",
              "  )\n",
              "  (classifier): Sequential(\n",
              "    (0): Flatten(start_dim=1, end_dim=-1)\n",
              "    (1): Linear(in_features=12544, out_features=1024, bias=True)\n",
              "    (2): ReLU()\n",
              "    (3): Linear(in_features=1024, out_features=256, bias=True)\n",
              "    (4): ReLU()\n",
              "    (5): Linear(in_features=256, out_features=26, bias=True)\n",
              "  )\n",
              ")"
            ]
          },
          "metadata": {},
          "execution_count": 78
        }
      ]
    },
    {
      "cell_type": "code",
      "source": [
        "loss_fn=nn.CrossEntropyLoss()\n",
        "optimizer=torch.optim.SGD(params=model.parameters(),lr=0.001)"
      ],
      "metadata": {
        "id": "l6taHJILcaRn"
      },
      "execution_count": 79,
      "outputs": []
    },
    {
      "cell_type": "code",
      "source": [
        "epochs = 1\n",
        "\n",
        "for epoch in range(epochs):\n",
        "  model.train()\n",
        "  running_loss=0\n",
        "\n",
        "  for batch , (images,labels) in enumerate(train_dataloader):\n",
        "    images=images.to(device)\n",
        "    labels=labels.to(device)\n",
        "    optimizer.zero_grad()\n",
        "    outputs=model(images)\n",
        "    loss=loss_fn(outputs,labels)\n",
        "    loss.backward()\n",
        "    optimizer.step()\n",
        "\n",
        "    running_loss+=loss.item()\n",
        "\n",
        "  print(f\"Epoch [{epoch+1}/{epochs}] - Loss: {running_loss / len(train_dataloader)}\")\n",
        "\n",
        "  model.eval()\n",
        "  correct=0\n",
        "  total=0\n",
        "  with torch.inference_mode():\n",
        "    for batch ,(images,labels) in enumerate(test_dataloader):\n",
        "      images=images.to(device)\n",
        "      labels=labels.to(device)\n",
        "      outputs=model(images)\n",
        "      predicted = torch.argmax(outputs, dim=1)\n",
        "      total+=labels.size(0)\n",
        "      correct+=(predicted==labels).sum().item()\n",
        "\n",
        "  accuracy = 100 * correct / total\n",
        "  print(f\"Accuracy on the test set: {accuracy}%\")\n",
        "\n",
        "\n"
      ],
      "metadata": {
        "colab": {
          "base_uri": "https://localhost:8080/"
        },
        "id": "b5C4_oK5i4FB",
        "outputId": "c48056fb-80d1-43f1-bb8d-fcd31067b0b9"
      },
      "execution_count": 83,
      "outputs": [
        {
          "output_type": "stream",
          "name": "stdout",
          "text": [
            "Epoch [1/1] - Loss: 0.011531638987498203\n",
            "Accuracy on the test set: 99.73166666666667%\n"
          ]
        }
      ]
    },
    {
      "cell_type": "code",
      "source": [
        "from pathlib import Path\n",
        "\n",
        "MODEL_PATH=Path(\"models\")\n",
        "MODEL_PATH.mkdir(parents=True,\n",
        "                 exist_ok=True)\n",
        "\n",
        "MODEL_NAME=\"model\"\n",
        "MODEL_SAVE_PATH=MODEL_PATH/MODEL_NAME\n",
        "\n",
        "torch.save(obj=model.state_dict(),\n",
        "           f=MODEL_SAVE_PATH)"
      ],
      "metadata": {
        "id": "E2toH9JIrPpa"
      },
      "execution_count": 87,
      "outputs": []
    },
    {
      "cell_type": "code",
      "source": [],
      "metadata": {
        "id": "tku1vjyI2tng"
      },
      "execution_count": null,
      "outputs": []
    }
  ],
  "metadata": {
    "colab": {
      "provenance": [],
      "gpuType": "T4",
      "authorship_tag": "ABX9TyMin3a80WgmyIUCT7T636Lx",
      "include_colab_link": true
    },
    "kernelspec": {
      "display_name": "Python 3",
      "name": "python3"
    },
    "language_info": {
      "name": "python"
    },
    "accelerator": "GPU"
  },
  "nbformat": 4,
  "nbformat_minor": 0
}