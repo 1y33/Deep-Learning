{
  "nbformat": 4,
  "nbformat_minor": 0,
  "metadata": {
    "colab": {
      "provenance": []
    },
    "kernelspec": {
      "name": "python3",
      "display_name": "Python 3"
    },
    "language_info": {
      "name": "python"
    }
  },
  "cells": [
    {
      "cell_type": "code",
      "execution_count": 13,
      "metadata": {
        "id": "m2aVkHqmm1p5"
      },
      "outputs": [],
      "source": [
        "import numpy as np\n",
        "import matplotlib.pyplot as plt"
      ]
    },
    {
      "cell_type": "code",
      "source": [
        "Z_DIM = 1\n",
        "H_HIDDEN = 10\n",
        "X_DIM = 10\n",
        "D_HIDDEN = 10\n",
        "\n",
        "step_size_g = 0.2\n",
        "weight_clip = 0.25"
      ],
      "metadata": {
        "id": "-cAp24IInCMg"
      },
      "execution_count": 5,
      "outputs": []
    },
    {
      "cell_type": "code",
      "source": [
        "def get_sample(random=True):\n",
        "  if random:\n",
        "    x0 = np.random.uniform(0,1)\n",
        "    freq = np.random.uniform(1.2,1.5)\n",
        "    mult = np.random.uniform(0.5,0.8)\n",
        "  else:\n",
        "    x0 = 0\n",
        "    freq = 0.2\n",
        "    mult = 1\n",
        "  signal = [mult * np.sin(x0+freq*i) for i in range(X_DIM)]\n",
        "\n",
        "  return np.array(signal)"
      ],
      "metadata": {
        "id": "DLI8Fn4_nFt7"
      },
      "execution_count": 21,
      "outputs": []
    },
    {
      "cell_type": "code",
      "source": [
        "def ReLU(x):\n",
        "  return np.maximum(x,0.)\n",
        "\n",
        "def dReLU(x):\n",
        "  return ReLU(x)\n",
        "\n",
        "def LeakyReLU(x,k=0.2):\n",
        "  return np.where(x>=0,x,x*k)\n",
        "\n",
        "def dLeakyReLU(x,k=0.2):\n",
        "  return np.where(x>=0,1.,k)\n",
        "\n",
        "def Tanh(x):\n",
        "  return np.tanh(x)\n",
        "\n",
        "def dTanh(x):\n",
        "  return 1.-Tanh(x)**2\n",
        "\n",
        "def Sigmoid(x):\n",
        "  return 1./(1.+np.exp(-x))\n",
        "\n",
        "def dSigmoid(x):\n",
        "  return Sigmoid(x) * (1 - Sigmoid(x))\n"
      ],
      "metadata": {
        "id": "yKricQjhnlqO"
      },
      "execution_count": 22,
      "outputs": []
    },
    {
      "cell_type": "code",
      "source": [],
      "metadata": {
        "id": "4a12fUbqpbjH"
      },
      "execution_count": null,
      "outputs": []
    }
  ]
}