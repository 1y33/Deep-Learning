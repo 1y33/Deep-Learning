{
  "nbformat": 4,
  "nbformat_minor": 0,
  "metadata": {
    "colab": {
      "provenance": []
    },
    "kernelspec": {
      "name": "python3",
      "display_name": "Python 3"
    },
    "language_info": {
      "name": "python"
    }
  },
  "cells": [
    {
      "cell_type": "code",
      "execution_count": 3,
      "metadata": {
        "id": "bxTNSrw5L1mH"
      },
      "outputs": [],
      "source": [
        "import torch\n",
        "import torch.nn as nn\n",
        "import torchvision\n",
        "import matplotlib.pyplot as plt\n",
        "import numpy as np\n",
        "from torch.utils.data import Dataset,DataLoader\n",
        "import torchvision.transforms as transforms\n",
        "\n",
        "device = \"cuda\" if torch.cuda.is_available() else \"cpu\""
      ]
    },
    {
      "cell_type": "code",
      "source": [
        "### Hyper paramas:\n",
        "\n",
        "#dataset\n",
        "IMG_SIZE = 128\n",
        "BATCH_SIZE = 32 # maybe it bigger if it cans\n",
        "\n",
        "#seeds\n",
        "torch.manual_seed(36)\n",
        "torch.cuda.manual_seed(36)\n"
      ],
      "metadata": {
        "id": "raQoq7FSMyr8"
      },
      "execution_count": 4,
      "outputs": []
    },
    {
      "cell_type": "code",
      "source": [
        "transform_data = transforms.Compose([\n",
        "    transforms.Resize((IMG_SIZE,IMG_SIZE)),\n",
        "    transforms.ToTensor(),\n",
        "    transforms.Normalize((0.5, 0.5, 0.5), (0.5, 0.5, 0.5)),\n",
        "])\n",
        "\n",
        "data_ds = torchvision.datasets.OxfordIIITPet(root = \"data\" , split = \"trainval\",target_types = \"category\",download = True,transform=transform_data)\n",
        "\n",
        "\n",
        "data_dl = DataLoader(data_ds,batch_size=BATCH_SIZE,shuffle=True)"
      ],
      "metadata": {
        "id": "bvrau0zfMypk"
      },
      "execution_count": 29,
      "outputs": []
    },
    {
      "cell_type": "code",
      "source": [
        "len(data_ds.classes)"
      ],
      "metadata": {
        "colab": {
          "base_uri": "https://localhost:8080/"
        },
        "id": "iqx9R09dQgf2",
        "outputId": "5e5ccdbc-bb42-4ffa-cc82-7cd7fbf75c88"
      },
      "execution_count": 6,
      "outputs": [
        {
          "output_type": "execute_result",
          "data": {
            "text/plain": [
              "37"
            ]
          },
          "metadata": {},
          "execution_count": 6
        }
      ]
    },
    {
      "cell_type": "code",
      "source": [
        "classes = data_ds.classes\n",
        "classes_idx = []\n",
        "for i in range(len(classes)):\n",
        "  classes_idx.append(i)\n",
        "\n",
        "classes[1],classes_idx[1]\n"
      ],
      "metadata": {
        "colab": {
          "base_uri": "https://localhost:8080/"
        },
        "id": "dSIwBTxDOQYs",
        "outputId": "090b580f-c781-4105-9574-f4fe8d40ad87"
      },
      "execution_count": 15,
      "outputs": [
        {
          "output_type": "execute_result",
          "data": {
            "text/plain": [
              "('American Bulldog', 1)"
            ]
          },
          "metadata": {},
          "execution_count": 15
        }
      ]
    },
    {
      "cell_type": "code",
      "source": [
        "linear = nn.Linear(1,100)\n",
        "x = torch.tensor([1]).to(torch.float)\n",
        "x = linear(x)\n",
        "print(x.shape)\n",
        "print(x)"
      ],
      "metadata": {
        "id": "rY_9dzIdOQWj"
      },
      "execution_count": null,
      "outputs": []
    },
    {
      "cell_type": "code",
      "source": [],
      "metadata": {
        "id": "RFjfqvyQOQTf"
      },
      "execution_count": 27,
      "outputs": []
    },
    {
      "cell_type": "code",
      "source": [
        "def weights_init(m):\n",
        "  classname = m.__class__.__name__\n",
        "  if classname.find('Conv')!= -1:\n",
        "    nn.init.normal_(m.weight.data,0.0,0.02)\n",
        "  elif classname.find('BatchNorm')!= -1:\n",
        "    nn.init.normal_(m.weight.data, 0.0,0.02)\n",
        "    nn.init.constant_(m.bias.data,0)"
      ],
      "metadata": {
        "id": "4FbZB38GMylI"
      },
      "execution_count": 36,
      "outputs": []
    },
    {
      "cell_type": "code",
      "source": [
        "class embedding(nn.Module):\n",
        "  def __init__(self,out_size):\n",
        "    super().__init__()\n",
        "    self.embeding_layer = nn.Sequential(\n",
        "        nn.Linear(1,32),\n",
        "        nn.ReLU(inplace=True),\n",
        "        nn.Linear(32,64),\n",
        "        nn.SiLU(inplace=True),\n",
        "        nn.Linear(64,out_size)\n",
        "    )\n",
        "  def forward(self,x):\n",
        "    x = torch.tensor([x]).to(torch.float)\n",
        "    x = self.embeding_layer(x)\n",
        "    x = x.unsqueeze(1).unsqueeze(1).unsqueeze(1)\n",
        "    return x"
      ],
      "metadata": {
        "id": "0XfoIUgDPs3M"
      },
      "execution_count": 101,
      "outputs": []
    },
    {
      "cell_type": "code",
      "source": [
        "embed = embedding(100)\n",
        "x = embed(1)\n",
        "x.shape"
      ],
      "metadata": {
        "colab": {
          "base_uri": "https://localhost:8080/"
        },
        "id": "0RKWsZuESEKa",
        "outputId": "ac2a3b40-daf3-4f7e-ea6c-4788e309a14e"
      },
      "execution_count": 102,
      "outputs": [
        {
          "output_type": "execute_result",
          "data": {
            "text/plain": [
              "torch.Size([100, 1, 1, 1])"
            ]
          },
          "metadata": {},
          "execution_count": 102
        }
      ]
    },
    {
      "cell_type": "code",
      "source": [
        "### Discriminator :\n",
        "\n",
        "def d_block(in_ch,out_ch,kernel=4,stride=2,padding=1):\n",
        "  return nn.Sequential(\n",
        "      nn.Conv2d(in_ch,out_ch,kernel,stride,padding,bias=False),\n",
        "      nn.LeakyReLU(0.2,inplace=True),\n",
        "      nn.BatchNorm2d(out_ch)\n",
        "  )\n",
        "class Discriminator(nn.Module):\n",
        "  def __init__(self):\n",
        "    super().__init__()\n",
        "    self.embed_size = 100\n",
        "    self.embed = embedding(self.embed_size)\n",
        "    self.model = nn.Sequential(\n",
        "        ## bs x 3 x128 x128\n",
        "        d_block(3,32), # -> 32 x 128 x 128\n",
        "        d_block(32,64), # -> 64 x 64 x 64\n",
        "        d_block(64,128), # -> 128 x 32 x 32\n",
        "        d_block(128,256), # -> 256 x 16 x 16\n",
        "        d_block(256,512), # -> 512 x 8 x 8\n",
        "        d_block(512,32), # -> 32 x 4 x4\n",
        "        nn.Flatten(),\n",
        "    )\n",
        "    self.model_2 = nn.Sequential(\n",
        "        nn.Linear(160,100),\n",
        "        nn.LeakyReLU(100,1),\n",
        "        nn.Sigmoid(),\n",
        "    )\n",
        "    self.apply(weights_init)\n",
        "\n",
        "  def forward(self,input,labels):\n",
        "    x = self.model(input)\n",
        "    y = self.embed(labels)\n",
        "    input = torch.cat([x,y],1)\n",
        "    final_output = self.model_2(input)\n",
        "\n",
        "    return final_output"
      ],
      "metadata": {
        "id": "jucW8TWPMyiM"
      },
      "execution_count": 103,
      "outputs": []
    },
    {
      "cell_type": "code",
      "source": [
        "discriminator_model = Discriminator().to(device)\n",
        "discriminator_model"
      ],
      "metadata": {
        "id": "NeUuhmZETDUO",
        "colab": {
          "base_uri": "https://localhost:8080/"
        },
        "outputId": "34bdabd7-291f-4ff1-cba4-5641abe507c9"
      },
      "execution_count": 104,
      "outputs": [
        {
          "output_type": "execute_result",
          "data": {
            "text/plain": [
              "Discriminator(\n",
              "  (embed): embedding(\n",
              "    (embeding_layer): Sequential(\n",
              "      (0): Linear(in_features=1, out_features=32, bias=True)\n",
              "      (1): ReLU(inplace=True)\n",
              "      (2): Linear(in_features=32, out_features=64, bias=True)\n",
              "      (3): SiLU(inplace=True)\n",
              "      (4): Linear(in_features=64, out_features=100, bias=True)\n",
              "    )\n",
              "  )\n",
              "  (model): Sequential(\n",
              "    (0): Sequential(\n",
              "      (0): Conv2d(3, 32, kernel_size=(4, 4), stride=(2, 2), padding=(1, 1), bias=False)\n",
              "      (1): LeakyReLU(negative_slope=0.2, inplace=True)\n",
              "      (2): BatchNorm2d(32, eps=1e-05, momentum=0.1, affine=True, track_running_stats=True)\n",
              "    )\n",
              "    (1): Sequential(\n",
              "      (0): Conv2d(32, 64, kernel_size=(4, 4), stride=(2, 2), padding=(1, 1), bias=False)\n",
              "      (1): LeakyReLU(negative_slope=0.2, inplace=True)\n",
              "      (2): BatchNorm2d(64, eps=1e-05, momentum=0.1, affine=True, track_running_stats=True)\n",
              "    )\n",
              "    (2): Sequential(\n",
              "      (0): Conv2d(64, 128, kernel_size=(4, 4), stride=(2, 2), padding=(1, 1), bias=False)\n",
              "      (1): LeakyReLU(negative_slope=0.2, inplace=True)\n",
              "      (2): BatchNorm2d(128, eps=1e-05, momentum=0.1, affine=True, track_running_stats=True)\n",
              "    )\n",
              "    (3): Sequential(\n",
              "      (0): Conv2d(128, 256, kernel_size=(4, 4), stride=(2, 2), padding=(1, 1), bias=False)\n",
              "      (1): LeakyReLU(negative_slope=0.2, inplace=True)\n",
              "      (2): BatchNorm2d(256, eps=1e-05, momentum=0.1, affine=True, track_running_stats=True)\n",
              "    )\n",
              "    (4): Sequential(\n",
              "      (0): Conv2d(256, 512, kernel_size=(4, 4), stride=(2, 2), padding=(1, 1), bias=False)\n",
              "      (1): LeakyReLU(negative_slope=0.2, inplace=True)\n",
              "      (2): BatchNorm2d(512, eps=1e-05, momentum=0.1, affine=True, track_running_stats=True)\n",
              "    )\n",
              "    (5): Sequential(\n",
              "      (0): Conv2d(512, 32, kernel_size=(4, 4), stride=(2, 2), padding=(1, 1), bias=False)\n",
              "      (1): LeakyReLU(negative_slope=0.2, inplace=True)\n",
              "      (2): BatchNorm2d(32, eps=1e-05, momentum=0.1, affine=True, track_running_stats=True)\n",
              "    )\n",
              "    (6): Flatten(start_dim=1, end_dim=-1)\n",
              "  )\n",
              "  (model_2): Sequential(\n",
              "    (0): Linear(in_features=160, out_features=100, bias=True)\n",
              "    (1): LeakyReLU(negative_slope=100, inplace=True)\n",
              "    (2): Sigmoid()\n",
              "  )\n",
              ")"
            ]
          },
          "metadata": {},
          "execution_count": 104
        }
      ]
    },
    {
      "cell_type": "code",
      "source": [],
      "metadata": {
        "id": "e9qBWrBfMyeT"
      },
      "execution_count": 104,
      "outputs": []
    },
    {
      "cell_type": "code",
      "source": [
        "def g_block(in_ch,out_ch,kernel=4,stride=2,padding=1):\n",
        "  return nn.Sequential(\n",
        "      nn.ConvTranspose2d(in_ch,out_ch,kernel,stride,padding,bias=False),\n",
        "      nn.ReLU(inplace=True),\n",
        "      nn.BatchNorm2d(out_ch),\n",
        "  )\n",
        "\n",
        "class Generator (nn.Module):\n",
        "  def __init__(self):\n",
        "    super().__init__()\n",
        "    self.embed_size = 200\n",
        "    self.embed = embedding(self.embed_size)\n",
        "    self.model = nn.Sequential(\n",
        "        g_block(100+self.embed_size,512,stride=1,padding=0),\n",
        "        g_block(512,256),\n",
        "        g_block(256,128),\n",
        "        g_block(128,64),\n",
        "        g_block(64,32),\n",
        "        g_block(32,3),\n",
        "    )\n",
        "\n",
        "    self.apply(weights_init)\n",
        "\n",
        "  def forward(self,input_noise,labels):\n",
        "    print(input_noise.shape)\n",
        "    print(labels)\n",
        "    label_embeddings = self.embed(labels)\n",
        "    print(label_embeddings.shape)\n",
        "    input = torch.cat([input_noise,label_embeddings],0)\n",
        "\n",
        "    return self.model(input)"
      ],
      "metadata": {
        "id": "i4iraFUBTmbj"
      },
      "execution_count": 113,
      "outputs": []
    },
    {
      "cell_type": "code",
      "source": [
        "generator_model = Generator()\n",
        "generator_model"
      ],
      "metadata": {
        "colab": {
          "base_uri": "https://localhost:8080/"
        },
        "id": "tKueY5-hX6Ce",
        "outputId": "a8264633-f959-4922-9ae8-6badd536da39"
      },
      "execution_count": 114,
      "outputs": [
        {
          "output_type": "execute_result",
          "data": {
            "text/plain": [
              "Generator(\n",
              "  (embed): embedding(\n",
              "    (embeding_layer): Sequential(\n",
              "      (0): Linear(in_features=1, out_features=32, bias=True)\n",
              "      (1): ReLU(inplace=True)\n",
              "      (2): Linear(in_features=32, out_features=64, bias=True)\n",
              "      (3): SiLU(inplace=True)\n",
              "      (4): Linear(in_features=64, out_features=200, bias=True)\n",
              "    )\n",
              "  )\n",
              "  (model): Sequential(\n",
              "    (0): Sequential(\n",
              "      (0): ConvTranspose2d(300, 512, kernel_size=(4, 4), stride=(1, 1), bias=False)\n",
              "      (1): ReLU(inplace=True)\n",
              "      (2): BatchNorm2d(512, eps=1e-05, momentum=0.1, affine=True, track_running_stats=True)\n",
              "    )\n",
              "    (1): Sequential(\n",
              "      (0): ConvTranspose2d(512, 256, kernel_size=(4, 4), stride=(2, 2), padding=(1, 1), bias=False)\n",
              "      (1): ReLU(inplace=True)\n",
              "      (2): BatchNorm2d(256, eps=1e-05, momentum=0.1, affine=True, track_running_stats=True)\n",
              "    )\n",
              "    (2): Sequential(\n",
              "      (0): ConvTranspose2d(256, 128, kernel_size=(4, 4), stride=(2, 2), padding=(1, 1), bias=False)\n",
              "      (1): ReLU(inplace=True)\n",
              "      (2): BatchNorm2d(128, eps=1e-05, momentum=0.1, affine=True, track_running_stats=True)\n",
              "    )\n",
              "    (3): Sequential(\n",
              "      (0): ConvTranspose2d(128, 64, kernel_size=(4, 4), stride=(2, 2), padding=(1, 1), bias=False)\n",
              "      (1): ReLU(inplace=True)\n",
              "      (2): BatchNorm2d(64, eps=1e-05, momentum=0.1, affine=True, track_running_stats=True)\n",
              "    )\n",
              "    (4): Sequential(\n",
              "      (0): ConvTranspose2d(64, 32, kernel_size=(4, 4), stride=(2, 2), padding=(1, 1), bias=False)\n",
              "      (1): ReLU(inplace=True)\n",
              "      (2): BatchNorm2d(32, eps=1e-05, momentum=0.1, affine=True, track_running_stats=True)\n",
              "    )\n",
              "    (5): Sequential(\n",
              "      (0): ConvTranspose2d(32, 3, kernel_size=(4, 4), stride=(2, 2), padding=(1, 1), bias=False)\n",
              "      (1): ReLU(inplace=True)\n",
              "      (2): BatchNorm2d(3, eps=1e-05, momentum=0.1, affine=True, track_running_stats=True)\n",
              "    )\n",
              "  )\n",
              ")"
            ]
          },
          "metadata": {},
          "execution_count": 114
        }
      ]
    },
    {
      "cell_type": "code",
      "source": [
        "def noise(size):\n",
        "  n = torch.randn(size,100,1,1,device=device)\n",
        "  return n.to(device)"
      ],
      "metadata": {
        "id": "IXtuxHI1X_QN"
      },
      "execution_count": 115,
      "outputs": []
    },
    {
      "cell_type": "code",
      "source": [
        "generator_model(noise(100),1)"
      ],
      "metadata": {
        "id": "34SABLa4YJVk",
        "colab": {
          "base_uri": "https://localhost:8080/",
          "height": 356
        },
        "outputId": "cde6f2b6-501b-438d-b5b5-0e7b2873ca7b"
      },
      "execution_count": 116,
      "outputs": [
        {
          "output_type": "stream",
          "name": "stdout",
          "text": [
            "torch.Size([100, 100, 1, 1])\n",
            "1\n",
            "torch.Size([200, 1, 1, 1])\n"
          ]
        },
        {
          "output_type": "error",
          "ename": "RuntimeError",
          "evalue": "Sizes of tensors must match except in dimension 0. Expected size 100 but got size 1 for tensor number 1 in the list.",
          "traceback": [
            "\u001b[0;31m---------------------------------------------------------------------------\u001b[0m",
            "\u001b[0;31mRuntimeError\u001b[0m                              Traceback (most recent call last)",
            "\u001b[0;32m<ipython-input-116-61a326c33c22>\u001b[0m in \u001b[0;36m<cell line: 1>\u001b[0;34m()\u001b[0m\n\u001b[0;32m----> 1\u001b[0;31m \u001b[0mgenerator_model\u001b[0m\u001b[0;34m(\u001b[0m\u001b[0mnoise\u001b[0m\u001b[0;34m(\u001b[0m\u001b[0;36m100\u001b[0m\u001b[0;34m)\u001b[0m\u001b[0;34m,\u001b[0m\u001b[0;36m1\u001b[0m\u001b[0;34m)\u001b[0m\u001b[0;34m\u001b[0m\u001b[0;34m\u001b[0m\u001b[0m\n\u001b[0m",
            "\u001b[0;32m/usr/local/lib/python3.10/dist-packages/torch/nn/modules/module.py\u001b[0m in \u001b[0;36m_wrapped_call_impl\u001b[0;34m(self, *args, **kwargs)\u001b[0m\n\u001b[1;32m   1509\u001b[0m             \u001b[0;32mreturn\u001b[0m \u001b[0mself\u001b[0m\u001b[0;34m.\u001b[0m\u001b[0m_compiled_call_impl\u001b[0m\u001b[0;34m(\u001b[0m\u001b[0;34m*\u001b[0m\u001b[0margs\u001b[0m\u001b[0;34m,\u001b[0m \u001b[0;34m**\u001b[0m\u001b[0mkwargs\u001b[0m\u001b[0;34m)\u001b[0m  \u001b[0;31m# type: ignore[misc]\u001b[0m\u001b[0;34m\u001b[0m\u001b[0;34m\u001b[0m\u001b[0m\n\u001b[1;32m   1510\u001b[0m         \u001b[0;32melse\u001b[0m\u001b[0;34m:\u001b[0m\u001b[0;34m\u001b[0m\u001b[0;34m\u001b[0m\u001b[0m\n\u001b[0;32m-> 1511\u001b[0;31m             \u001b[0;32mreturn\u001b[0m \u001b[0mself\u001b[0m\u001b[0;34m.\u001b[0m\u001b[0m_call_impl\u001b[0m\u001b[0;34m(\u001b[0m\u001b[0;34m*\u001b[0m\u001b[0margs\u001b[0m\u001b[0;34m,\u001b[0m \u001b[0;34m**\u001b[0m\u001b[0mkwargs\u001b[0m\u001b[0;34m)\u001b[0m\u001b[0;34m\u001b[0m\u001b[0;34m\u001b[0m\u001b[0m\n\u001b[0m\u001b[1;32m   1512\u001b[0m \u001b[0;34m\u001b[0m\u001b[0m\n\u001b[1;32m   1513\u001b[0m     \u001b[0;32mdef\u001b[0m \u001b[0m_call_impl\u001b[0m\u001b[0;34m(\u001b[0m\u001b[0mself\u001b[0m\u001b[0;34m,\u001b[0m \u001b[0;34m*\u001b[0m\u001b[0margs\u001b[0m\u001b[0;34m,\u001b[0m \u001b[0;34m**\u001b[0m\u001b[0mkwargs\u001b[0m\u001b[0;34m)\u001b[0m\u001b[0;34m:\u001b[0m\u001b[0;34m\u001b[0m\u001b[0;34m\u001b[0m\u001b[0m\n",
            "\u001b[0;32m/usr/local/lib/python3.10/dist-packages/torch/nn/modules/module.py\u001b[0m in \u001b[0;36m_call_impl\u001b[0;34m(self, *args, **kwargs)\u001b[0m\n\u001b[1;32m   1518\u001b[0m                 \u001b[0;32mor\u001b[0m \u001b[0m_global_backward_pre_hooks\u001b[0m \u001b[0;32mor\u001b[0m \u001b[0m_global_backward_hooks\u001b[0m\u001b[0;34m\u001b[0m\u001b[0;34m\u001b[0m\u001b[0m\n\u001b[1;32m   1519\u001b[0m                 or _global_forward_hooks or _global_forward_pre_hooks):\n\u001b[0;32m-> 1520\u001b[0;31m             \u001b[0;32mreturn\u001b[0m \u001b[0mforward_call\u001b[0m\u001b[0;34m(\u001b[0m\u001b[0;34m*\u001b[0m\u001b[0margs\u001b[0m\u001b[0;34m,\u001b[0m \u001b[0;34m**\u001b[0m\u001b[0mkwargs\u001b[0m\u001b[0;34m)\u001b[0m\u001b[0;34m\u001b[0m\u001b[0;34m\u001b[0m\u001b[0m\n\u001b[0m\u001b[1;32m   1521\u001b[0m \u001b[0;34m\u001b[0m\u001b[0m\n\u001b[1;32m   1522\u001b[0m         \u001b[0;32mtry\u001b[0m\u001b[0;34m:\u001b[0m\u001b[0;34m\u001b[0m\u001b[0;34m\u001b[0m\u001b[0m\n",
            "\u001b[0;32m<ipython-input-113-70680bb29e30>\u001b[0m in \u001b[0;36mforward\u001b[0;34m(self, input_noise, labels)\u001b[0m\n\u001b[1;32m     27\u001b[0m     \u001b[0mlabel_embeddings\u001b[0m \u001b[0;34m=\u001b[0m \u001b[0mself\u001b[0m\u001b[0;34m.\u001b[0m\u001b[0membed\u001b[0m\u001b[0;34m(\u001b[0m\u001b[0mlabels\u001b[0m\u001b[0;34m)\u001b[0m\u001b[0;34m\u001b[0m\u001b[0;34m\u001b[0m\u001b[0m\n\u001b[1;32m     28\u001b[0m     \u001b[0mprint\u001b[0m\u001b[0;34m(\u001b[0m\u001b[0mlabel_embeddings\u001b[0m\u001b[0;34m.\u001b[0m\u001b[0mshape\u001b[0m\u001b[0;34m)\u001b[0m\u001b[0;34m\u001b[0m\u001b[0;34m\u001b[0m\u001b[0m\n\u001b[0;32m---> 29\u001b[0;31m     \u001b[0minput\u001b[0m \u001b[0;34m=\u001b[0m \u001b[0mtorch\u001b[0m\u001b[0;34m.\u001b[0m\u001b[0mcat\u001b[0m\u001b[0;34m(\u001b[0m\u001b[0;34m[\u001b[0m\u001b[0minput_noise\u001b[0m\u001b[0;34m,\u001b[0m\u001b[0mlabel_embeddings\u001b[0m\u001b[0;34m]\u001b[0m\u001b[0;34m,\u001b[0m\u001b[0;36m0\u001b[0m\u001b[0;34m)\u001b[0m\u001b[0;34m\u001b[0m\u001b[0;34m\u001b[0m\u001b[0m\n\u001b[0m\u001b[1;32m     30\u001b[0m \u001b[0;34m\u001b[0m\u001b[0m\n\u001b[1;32m     31\u001b[0m     \u001b[0;32mreturn\u001b[0m \u001b[0mself\u001b[0m\u001b[0;34m.\u001b[0m\u001b[0mmodel\u001b[0m\u001b[0;34m(\u001b[0m\u001b[0minput\u001b[0m\u001b[0;34m)\u001b[0m\u001b[0;34m\u001b[0m\u001b[0;34m\u001b[0m\u001b[0m\n",
            "\u001b[0;31mRuntimeError\u001b[0m: Sizes of tensors must match except in dimension 0. Expected size 100 but got size 1 for tensor number 1 in the list."
          ]
        }
      ]
    },
    {
      "cell_type": "code",
      "source": [
        "noise(100).shape"
      ],
      "metadata": {
        "colab": {
          "base_uri": "https://localhost:8080/"
        },
        "id": "pIexesPJZlE4",
        "outputId": "5fe129a2-489e-402c-fad0-ea2a23d11b2c"
      },
      "execution_count": null,
      "outputs": [
        {
          "output_type": "execute_result",
          "data": {
            "text/plain": [
              "torch.Size([100, 100, 1, 1])"
            ]
          },
          "metadata": {},
          "execution_count": 82
        }
      ]
    },
    {
      "cell_type": "code",
      "source": [
        "classes = data_ds.class_to_idx\n",
        "torch.tensor(np.array(classes[\"Boxer\"])).long()"
      ],
      "metadata": {
        "id": "kkYj4-EEZ-wU"
      },
      "execution_count": null,
      "outputs": []
    },
    {
      "cell_type": "code",
      "source": [
        "x,y = data_ds[1]\n",
        "generator_model(x,y)"
      ],
      "metadata": {
        "id": "GZZo_wqkb5Qg"
      },
      "execution_count": null,
      "outputs": []
    },
    {
      "cell_type": "code",
      "source": [
        "data_ds.transform"
      ],
      "metadata": {
        "id": "RrCT2WrpdZLw"
      },
      "execution_count": null,
      "outputs": []
    },
    {
      "cell_type": "code",
      "source": [
        "t = transforms.ToTensor()\n",
        "t(x)"
      ],
      "metadata": {
        "id": "NvFmXitwdunm"
      },
      "execution_count": null,
      "outputs": []
    },
    {
      "cell_type": "code",
      "source": [],
      "metadata": {
        "id": "7Soju4Tgd4hG"
      },
      "execution_count": null,
      "outputs": []
    }
  ]
}