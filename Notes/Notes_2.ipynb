{
  "nbformat": 4,
  "nbformat_minor": 0,
  "metadata": {
    "colab": {
      "provenance": [],
      "authorship_tag": "ABX9TyOgJ6XrHVYwhwHtP26g9RlG",
      "include_colab_link": true
    },
    "kernelspec": {
      "name": "python3",
      "display_name": "Python 3"
    },
    "language_info": {
      "name": "python"
    }
  },
  "cells": [
    {
      "cell_type": "markdown",
      "metadata": {
        "id": "view-in-github",
        "colab_type": "text"
      },
      "source": [
        "<a href=\"https://colab.research.google.com/github/1y33/Deep-Learning/blob/main/Notes/Notes_2.ipynb\" target=\"_parent\"><img src=\"https://colab.research.google.com/assets/colab-badge.svg\" alt=\"Open In Colab\"/></a>"
      ]
    },
    {
      "cell_type": "code",
      "execution_count": 1,
      "metadata": {
        "id": "tBYWa7Tb9WId"
      },
      "outputs": [],
      "source": [
        "# Setup ImageNet normalization levels\n",
        "normalize=transforms.Normalize(mean=[0.485, 0.456, 0.406],\n",
        "                               std=[0.229, 0.224, 0.225])"
      ]
    },
    {
      "cell_type": "markdown",
      "source": [
        "###How to get the weights of model:\n"
      ],
      "metadata": {
        "id": "OsCzXaQ2FeLi"
      }
    },
    {
      "cell_type": "code",
      "source": [
        "#Download  the new pretrained weights for EfficientNet_B0\n",
        "weights=torchvision.models.EfficientNet_B0_Weights.DEFAULT # Default best available weights\n",
        "\n",
        "#Setup the model with the pretrained weights and send it to the target device\n",
        "model=torchvision.models.efficientnet_b0(weights=weights).to(device)"
      ],
      "metadata": {
        "id": "75TJVrpZZoCT"
      },
      "execution_count": null,
      "outputs": []
    },
    {
      "cell_type": "code",
      "source": [
        "# freeze all base layers by setting their requires_Grad attributs to False\n",
        "\n",
        "for param in model.features.parameters():\n",
        "  param.requires_grad=False"
      ],
      "metadata": {
        "id": "uMqtYNi1Z14A"
      },
      "execution_count": null,
      "outputs": []
    },
    {
      "cell_type": "code",
      "source": [
        "###Creating a writer for our tensorboard data"
      ],
      "metadata": {
        "id": "HcyLn3LMZ-Vf"
      },
      "execution_count": null,
      "outputs": []
    },
    {
      "cell_type": "code",
      "source": [
        "from torch.utils.tensorboard import SummaryWriter\n",
        "#\n",
        "#  Ad there in the engine function after the results\n",
        "#\n",
        "writer.add_scalars(main_tag=\"Loss\",\n",
        "                           tag_scalar_dict={\"train_loss\":train_loss,\n",
        "                                            \"test_loss\":test_loss},\n",
        "                           global_step=epoch)\n",
        "        writer.add_scalars(main_tag=\"Accuracy\",\n",
        "                           tag_scalar_dict={\"train_acc\": train_acc,\n",
        "                                            \"test_acc\":test_acc},\n",
        "                           global_step=epoch)\n",
        "\n",
        "        writer.add_graph(model=model,\n",
        "                         input_to_model=torch.randn(32,3,224,224).to(device))\n",
        "\n",
        "# After this close the writer\n",
        "    writer.close()"
      ],
      "metadata": {
        "id": "MyPoZqGyZ9Cg"
      },
      "execution_count": 1,
      "outputs": []
    },
    {
      "cell_type": "code",
      "source": [
        "from torch.utils.tensorboard import SummaryWriter\n",
        "\n",
        "def create_writer(experiment_name: str, model_name: str, extra: str = None):\n",
        "    \"\"\"\n",
        "    Creates a torch.utils.tensorboard.writer.SummaryWriter() instance tracking to a specific directory.\n",
        "    \"\"\"\n",
        "    from datetime import datetime\n",
        "    import os\n",
        "\n",
        "    # Get timestamp of current date in reverse order\n",
        "    timestamp = datetime.now().strftime(\"%Y-%m-%d\")\n",
        "\n",
        "    #Creating the directories for the summarywriter ( here we can modify how we want them)\n",
        "    if extra:\n",
        "        log_dir = os.path.join(\"runs\", timestamp, model_name, experiment_name, extra)\n",
        "    else:\n",
        "        log_dir = os.path.join(\"runs\", timestamp, model_name, experiment_name)\n",
        "\n",
        "    return SummaryWriter(log_dir=log_dir)\n"
      ],
      "metadata": {
        "id": "LksL29QoaM-7"
      },
      "execution_count": null,
      "outputs": []
    },
    {
      "cell_type": "markdown",
      "source": [
        "We can modify the engine like this\n"
      ],
      "metadata": {
        "id": "AA64L7fia7zK"
      }
    },
    {
      "cell_type": "code",
      "source": [
        "def engine(model: torch.nn.Module,\n",
        "          train_dataloader: torch.utils.data.DataLoader,\n",
        "          test_dataloader: torch.utils.data.DataLoader,\n",
        "          optimizer: torch.optim.Optimizer,\n",
        "          loss_fn: torch.nn.Module,\n",
        "          epochs: int,\n",
        "          device: torch.device,\n",
        "          writer:torch.utils.tensorboard.writer.SummaryWriter)"
      ],
      "metadata": {
        "id": "wftVO9P-bEBU"
      },
      "execution_count": null,
      "outputs": []
    },
    {
      "cell_type": "markdown",
      "source": [
        "#FULLY connected code :"
      ],
      "metadata": {
        "id": "Cpe0nzHObhnj"
      }
    },
    {
      "cell_type": "code",
      "source": [
        "%%time\n",
        "from going_modular.going_modular.utils import save_model\n",
        "\n",
        "set_seeds(36)\n",
        "\n",
        "#keep track of experiment numbers\n",
        "experiment_number=0\n",
        "\n",
        "#Loop throigh each dataloader\n",
        "for dataloader_name,train_dataloader in train_dataloaders.items():\n",
        "  #loop through epochs\n",
        "  for epochs in num_epochs:\n",
        "    #Loop thorugh model name and create a new model\n",
        "    for model_name in models:\n",
        "\n",
        "\n",
        "      #print out info\n",
        "      experiment_number+=1\n",
        "      print(f\"INFO| Experiment number:{experiment_number}\")\n",
        "      print(f\"INFO| Model :{model_name}\")\n",
        "      print(f\"INFO| DataLoader :{dataloader_name}\")\n",
        "      print(f\"INFO| Number of epochs:{epochs}\")\n",
        "\n",
        "      #Select and create model\n",
        "      if model_name ==\"effnetb0\":\n",
        "        model=create_effnetb0()\n",
        "      else:\n",
        "        model=create_effnetb2()\n",
        "\n",
        "      #Create a new loss and optimizer\n",
        "      loss_fn = nn.CrossEntropyLoss()\n",
        "      optimizer = torch.optim.Adam(params=model.parameters(),lr=0.001)\n",
        "\n",
        "      #Train target model with target dataloader and track experiment\n",
        "      #using train() rather than engine.train()\n",
        "      engine(model=model,\n",
        "            train_dataloader=train_dataloader,\n",
        "            test_dataloader=test_dataloader,\n",
        "            optimizer=optimizer,\n",
        "            loss_fn=loss_fn,\n",
        "            epochs=epochs,\n",
        "            device=device,\n",
        "            writer=create_writer(experiment_name=dataloader_name,\n",
        "                                 model_name=model_name,\n",
        "                                 extra=f\"{epochs}_epochs\"))\n",
        "\n",
        "      #Save model to file so we can import it later if need be\n",
        "      save_filepath=f\"07_{model_name}_{dataloader_name}_{epochs}_epochs.pth\"\n",
        "      save_model(model=model,\n",
        "                 target_dir=\"models\",\n",
        "                 model_name=save_filepath)\n",
        "      print(\"-\"*50+\"\\n\")\n",
        "\n"
      ],
      "metadata": {
        "id": "kmRfCVW0bjr8"
      },
      "execution_count": null,
      "outputs": []
    }
  ]
}