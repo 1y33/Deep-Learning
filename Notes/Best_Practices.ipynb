{
 "cells": [
  {
   "cell_type": "code",
   "execution_count": 10,
   "id": "initial_id",
   "metadata": {
    "collapsed": true,
    "ExecuteTime": {
     "end_time": "2024-03-19T15:26:51.280525100Z",
     "start_time": "2024-03-19T15:26:51.257776700Z"
    }
   },
   "outputs": [],
   "source": [
    "import torch.nn as nn\n",
    "import torch"
   ]
  },
  {
   "cell_type": "code",
   "outputs": [],
   "source": [
    "class ReLUConvBN(nn.Module):\n",
    "    def __init__(self,in_ch,out_ch,kernel_size,stride,padding,affine=True):\n",
    "        super(ReLUConvBN,self).__init__()\n",
    "        self.op = nn.Sequential(\n",
    "            nn.ReLU(inplace=True),\n",
    "            nn.Conv2d(in_ch,out_ch,kernel_size,stride=stride,padding=padding,bias=False),\n",
    "            nn.BatchNorm2d(out_ch,affine=affine)\n",
    "        )\n",
    "    def forward(self,x):\n",
    "        return self.op(x)\n",
    "    "
   ],
   "metadata": {
    "collapsed": false,
    "ExecuteTime": {
     "end_time": "2024-03-19T15:21:47.948184600Z",
     "start_time": "2024-03-19T15:21:47.941476800Z"
    }
   },
   "id": "a59b7eede2aac86d",
   "execution_count": 7
  },
  {
   "cell_type": "code",
   "outputs": [],
   "source": [
    "class SepConv(nn.Module):\n",
    "    def __init__(self,in_ch,out_ch,kernel_size,stride,padding,affine=True):\n",
    "        super(SepConv,self).__init__()\n",
    "        self.op = nn.Sequential(\n",
    "            nn.ReLU(inplace=True),\n",
    "            nn.Conv2d(in_ch,in_ch,kernel_size,stride=stride,padding=padding,groups=in_ch,bias=False),\n",
    "            nn.Conv2d(in_ch,in_ch,kernel_size=1,padding=0,bias=False),\n",
    "            nn.BatchNorm2d(in_ch,affine),\n",
    "            \n",
    "            nn.ReLU(inplace=True),\n",
    "            nn.Conv2d(in_ch,in_ch,kernel_size=kernel_size,stride=1,padding=padding,groups=in_ch,bias=False),\n",
    "            nn.Conv2d(in_ch,out_ch,kernel_size=1,padding=0,bias=False),\n",
    "            nn.BatchNorm2d(out_ch,affine),\n",
    "        )\n",
    "    def forward(self,x):\n",
    "        return self.op(x)"
   ],
   "metadata": {
    "collapsed": false,
    "ExecuteTime": {
     "end_time": "2024-03-19T15:21:48.171424100Z",
     "start_time": "2024-03-19T15:21:48.165110400Z"
    }
   },
   "id": "e0e3abe50e74b713",
   "execution_count": 8
  },
  {
   "cell_type": "code",
   "outputs": [],
   "source": [
    "class DilConv(nn.Module):\n",
    "    def __init__(self,in_ch,out_ch,kernel_size,stride,padding,dilation,affine=True):\n",
    "        super(DilConv,self).__init__()\n",
    "        self.op = nn.Sequential(\n",
    "            nn.ReLU(inplace=True),\n",
    "            nn.Conv2d(in_ch,in_ch,kernel_size,stride, padding, dilation,bias=False),\n",
    "            nn.Conv2d(in_ch,out_ch,kernel_size=1,padding=0),\n",
    "            nn.BatchNorm2d(out_ch),\n",
    "        )\n",
    "    def forward(self,x):\n",
    "        return self.op(x)"
   ],
   "metadata": {
    "collapsed": false,
    "ExecuteTime": {
     "end_time": "2024-03-19T15:21:48.552360200Z",
     "start_time": "2024-03-19T15:21:48.541974600Z"
    }
   },
   "id": "47e4b8988c20b6a3",
   "execution_count": 9
  },
  {
   "cell_type": "code",
   "outputs": [],
   "source": [
    "class FactorizedReduce(nn.Module):\n",
    "    def __init__(self,in_ch,out_ch,affine=True):\n",
    "        super(FactorizedReduce,self).__init__()\n",
    "        assert out_ch%2 ==0\n",
    "        self.conv1 = nn.Conv2d(in_ch,out_ch//2 ,kernel_size=1,stride = 2,padding=0,bias=False)\n",
    "        self.conv2 = nn.Conv2d(in_ch,out_ch//2 ,kernel_size=1,stride = 2,padding=0,bias=False)\n",
    "        self.relu = nn.ReLU(inplace=True)\n",
    "        self.bn = nn.BatchNorm2d(out_ch,affine)\n",
    "        \n",
    "    def forward(self,x):\n",
    "        x = self.relu(x)\n",
    "        out = torch.cat([self.conv1(x),self.conv2(x[:,:,1:,1:])],dim=1)\n",
    "        out = self.bn(out)\n",
    "        return out"
   ],
   "metadata": {
    "collapsed": false
   },
   "id": "9261a9fbeeff552c"
  }
 ],
 "metadata": {
  "kernelspec": {
   "display_name": "Python 3",
   "language": "python",
   "name": "python3"
  },
  "language_info": {
   "codemirror_mode": {
    "name": "ipython",
    "version": 2
   },
   "file_extension": ".py",
   "mimetype": "text/x-python",
   "name": "python",
   "nbconvert_exporter": "python",
   "pygments_lexer": "ipython2",
   "version": "2.7.6"
  }
 },
 "nbformat": 4,
 "nbformat_minor": 5
}
