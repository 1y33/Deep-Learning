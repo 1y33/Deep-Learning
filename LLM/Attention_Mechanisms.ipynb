{
 "cells": [
  {
   "cell_type": "code",
   "outputs": [],
   "source": [
    "import torch"
   ],
   "metadata": {
    "collapsed": false,
    "ExecuteTime": {
     "end_time": "2024-03-22T14:52:51.101197200Z",
     "start_time": "2024-03-22T14:52:49.662177400Z"
    }
   },
   "id": "3c13fce972548f53",
   "execution_count": 1
  },
  {
   "cell_type": "code",
   "outputs": [],
   "source": [
    "inputs = torch.tensor([\n",
    "    [0.33,0.15,0.86],\n",
    "    [0.12,0.13,0.31],\n",
    "    [0.31,0.61,0.18],\n",
    "    [0.11,0.31,0.11],\n",
    "    [0.51,0.22,0.41],\n",
    "    [0.13,0.85,0.24]\n",
    "])"
   ],
   "metadata": {
    "collapsed": false,
    "ExecuteTime": {
     "end_time": "2024-03-22T15:03:01.264211100Z",
     "start_time": "2024-03-22T15:03:01.256505200Z"
    }
   },
   "id": "b88d807251346d9",
   "execution_count": 12
  },
  {
   "cell_type": "code",
   "outputs": [
    {
     "data": {
      "text/plain": "tensor([0.3257, 0.1274, 0.1723, 0.0876, 0.2169, 0.2005])"
     },
     "execution_count": 17,
     "metadata": {},
     "output_type": "execute_result"
    }
   ],
   "source": [
    "query = inputs[1]\n",
    "\n",
    "attn_scores_2 = torch.empty(inputs.shape[0])\n",
    "\n",
    "for i ,x_i in enumerate(inputs):\n",
    "    attn_scores_2[i] = torch.dot(x_i,query)\n",
    "attn_scores_2"
   ],
   "metadata": {
    "collapsed": false,
    "ExecuteTime": {
     "end_time": "2024-03-22T15:03:08.849637700Z",
     "start_time": "2024-03-22T15:03:08.840466900Z"
    }
   },
   "id": "cdd0ebe983fd415e",
   "execution_count": 17
  },
  {
   "cell_type": "code",
   "outputs": [
    {
     "data": {
      "text/plain": "tensor(1.)"
     },
     "execution_count": 21,
     "metadata": {},
     "output_type": "execute_result"
    }
   ],
   "source": [
    "attn_weights_2_temp = attn_scores_2/ attn_scores_2.sum()\n",
    "attn_weights_2_temp.sum()"
   ],
   "metadata": {
    "collapsed": false,
    "ExecuteTime": {
     "end_time": "2024-03-22T15:03:20.953869500Z",
     "start_time": "2024-03-22T15:03:20.944726500Z"
    }
   },
   "id": "e5eb7fd8b44b1415",
   "execution_count": 21
  },
  {
   "cell_type": "code",
   "outputs": [
    {
     "data": {
      "text/plain": "(tensor([0.2881, 0.1127, 0.1524, 0.0775, 0.1919, 0.1774]),\n tensor([0.3257, 0.1274, 0.1723, 0.0876, 0.2169, 0.2005]))"
     },
     "execution_count": 26,
     "metadata": {},
     "output_type": "execute_result"
    }
   ],
   "source": [
    "attn_weights_2_temp,attn_scores_2"
   ],
   "metadata": {
    "collapsed": false,
    "ExecuteTime": {
     "end_time": "2024-03-22T15:03:54.988869700Z",
     "start_time": "2024-03-22T15:03:54.981578200Z"
    }
   },
   "id": "a82cb7dcb728777f",
   "execution_count": 26
  },
  {
   "cell_type": "code",
   "outputs": [
    {
     "data": {
      "text/plain": "tensor([0.1906, 0.1564, 0.1635, 0.1503, 0.1710, 0.1682])"
     },
     "execution_count": 27,
     "metadata": {},
     "output_type": "execute_result"
    }
   ],
   "source": [
    "def softmax_naive(x):\n",
    "    return torch.exp(x)/torch.exp(x).sum(dim=0)\n",
    "\n",
    "attn_weights_2_naive = softmax_naive(attn_scores_2)\n",
    "attn_weights_2_naive"
   ],
   "metadata": {
    "collapsed": false,
    "ExecuteTime": {
     "end_time": "2024-03-22T15:04:39.971664600Z",
     "start_time": "2024-03-22T15:04:39.942296700Z"
    }
   },
   "id": "1cf8fa532e750a6f",
   "execution_count": 27
  },
  {
   "cell_type": "code",
   "outputs": [
    {
     "data": {
      "text/plain": "tensor(1.)"
     },
     "execution_count": 28,
     "metadata": {},
     "output_type": "execute_result"
    }
   ],
   "source": [
    "attn_weights_2_naive.sum()"
   ],
   "metadata": {
    "collapsed": false,
    "ExecuteTime": {
     "end_time": "2024-03-22T15:04:49.570107400Z",
     "start_time": "2024-03-22T15:04:49.560550700Z"
    }
   },
   "id": "b5a51afe5c1b50d5",
   "execution_count": 28
  },
  {
   "cell_type": "code",
   "outputs": [],
   "source": [
    "attn_weights_2= torch.softmax(attn_scores_2,dim=0)"
   ],
   "metadata": {
    "collapsed": false,
    "ExecuteTime": {
     "end_time": "2024-03-22T15:06:29.305758100Z",
     "start_time": "2024-03-22T15:06:29.301239800Z"
    }
   },
   "id": "1e99b4b54ecfafa6",
   "execution_count": 31
  },
  {
   "cell_type": "code",
   "outputs": [
    {
     "data": {
      "text/plain": "tensor([0.2580, 0.3759, 0.3689])"
     },
     "execution_count": 34,
     "metadata": {},
     "output_type": "execute_result"
    }
   ],
   "source": [
    "query = inputs[1]\n",
    "context_vec_2 = torch.zeros(query.shape)\n",
    "\n",
    "for i , x_i in enumerate(inputs):\n",
    "    context_vec_2 += attn_weights_2[i] * x_i\n",
    "context_vec_2"
   ],
   "metadata": {
    "collapsed": false,
    "ExecuteTime": {
     "end_time": "2024-03-22T15:08:06.068186800Z",
     "start_time": "2024-03-22T15:08:06.057389800Z"
    }
   },
   "id": "bcc034c528f06e58",
   "execution_count": 34
  },
  {
   "cell_type": "code",
   "outputs": [
    {
     "data": {
      "text/plain": "tensor([[0.3300, 0.1500, 0.8600],\n        [0.1200, 0.1300, 0.3100],\n        [0.3100, 0.6100, 0.1800],\n        [0.1100, 0.3100, 0.1100],\n        [0.5100, 0.2200, 0.4100],\n        [0.1300, 0.8500, 0.2400]])"
     },
     "execution_count": 35,
     "metadata": {},
     "output_type": "execute_result"
    }
   ],
   "source": [
    "inputs"
   ],
   "metadata": {
    "collapsed": false,
    "ExecuteTime": {
     "end_time": "2024-03-22T15:09:04.777729700Z",
     "start_time": "2024-03-22T15:09:04.767599400Z"
    }
   },
   "id": "561b5512ed895025",
   "execution_count": 35
  },
  {
   "cell_type": "code",
   "outputs": [
    {
     "data": {
      "text/plain": "tensor([[0.8710, 0.3257, 0.3486, 0.1774, 0.5539, 0.3768],\n        [0.3257, 0.1274, 0.1723, 0.0876, 0.2169, 0.2005],\n        [0.3486, 0.1723, 0.5006, 0.2430, 0.3661, 0.6020],\n        [0.1774, 0.0876, 0.2430, 0.1203, 0.1694, 0.3042],\n        [0.5539, 0.2169, 0.3661, 0.1694, 0.4766, 0.3517],\n        [0.3768, 0.2005, 0.6020, 0.3042, 0.3517, 0.7970]])"
     },
     "execution_count": 43,
     "metadata": {},
     "output_type": "execute_result"
    }
   ],
   "source": [
    "attn_scores = torch.empty(6,6)\n",
    "\n",
    "for j,j_x in enumerate(inputs):\n",
    "    for i,i_x in enumerate(inputs):\n",
    "        attn_scores[i,j] = torch.dot(i_x,j_x)\n",
    "    \n",
    "attn_scores"
   ],
   "metadata": {
    "collapsed": false,
    "ExecuteTime": {
     "end_time": "2024-03-22T15:11:15.440698700Z",
     "start_time": "2024-03-22T15:11:15.413114900Z"
    }
   },
   "id": "8423e9795517e6c5",
   "execution_count": 43
  },
  {
   "cell_type": "code",
   "outputs": [
    {
     "data": {
      "text/plain": "tensor([[0.8710, 0.3257, 0.3486, 0.1774, 0.5539, 0.3768],\n        [0.3257, 0.1274, 0.1723, 0.0876, 0.2169, 0.2005],\n        [0.3486, 0.1723, 0.5006, 0.2430, 0.3661, 0.6020],\n        [0.1774, 0.0876, 0.2430, 0.1203, 0.1694, 0.3042],\n        [0.5539, 0.2169, 0.3661, 0.1694, 0.4766, 0.3517],\n        [0.3768, 0.2005, 0.6020, 0.3042, 0.3517, 0.7970]])"
     },
     "execution_count": 44,
     "metadata": {},
     "output_type": "execute_result"
    }
   ],
   "source": [
    "attn_scores = inputs @ inputs.T\n",
    "attn_scores"
   ],
   "metadata": {
    "collapsed": false,
    "ExecuteTime": {
     "end_time": "2024-03-22T15:11:15.904040Z",
     "start_time": "2024-03-22T15:11:15.892214600Z"
    }
   },
   "id": "c0b9091f9fcbbd86",
   "execution_count": 44
  },
  {
   "cell_type": "code",
   "outputs": [
    {
     "data": {
      "text/plain": "tensor([[0.2493, 0.1445, 0.1479, 0.1246, 0.1816, 0.1521],\n        [0.1906, 0.1564, 0.1635, 0.1503, 0.1710, 0.1682],\n        [0.1611, 0.1350, 0.1875, 0.1449, 0.1639, 0.2075],\n        [0.1652, 0.1510, 0.1764, 0.1560, 0.1639, 0.1875],\n        [0.2014, 0.1438, 0.1669, 0.1371, 0.1864, 0.1645],\n        [0.1534, 0.1286, 0.1922, 0.1427, 0.1496, 0.2335]])"
     },
     "execution_count": 47,
     "metadata": {},
     "output_type": "execute_result"
    }
   ],
   "source": [
    "attn_weights = torch.softmax(attn_scores,dim=1)\n",
    "attn_weights"
   ],
   "metadata": {
    "collapsed": false,
    "ExecuteTime": {
     "end_time": "2024-03-22T15:11:50.849362Z",
     "start_time": "2024-03-22T15:11:50.833469300Z"
    }
   },
   "id": "ffbf40a9cefd0bb9",
   "execution_count": 47
  },
  {
   "cell_type": "code",
   "outputs": [
    {
     "data": {
      "text/plain": "tensor([[0.2715, 0.3542, 0.4105],\n        [0.2580, 0.3759, 0.3689],\n        [0.2540, 0.4135, 0.3471],\n        [0.2524, 0.3958, 0.3500],\n        [0.2670, 0.3740, 0.3788],\n        [0.2480, 0.4326, 0.3395]])"
     },
     "execution_count": 49,
     "metadata": {},
     "output_type": "execute_result"
    }
   ],
   "source": [
    "all_context_vector = attn_weights @ inputs\n",
    "all_context_vector"
   ],
   "metadata": {
    "collapsed": false,
    "ExecuteTime": {
     "end_time": "2024-03-22T15:12:30.652197400Z",
     "start_time": "2024-03-22T15:12:30.644803Z"
    }
   },
   "id": "222e3bb067861470",
   "execution_count": 49
  },
  {
   "cell_type": "code",
   "outputs": [
    {
     "data": {
      "text/plain": "tensor([0.2580, 0.3759, 0.3689])"
     },
     "execution_count": 50,
     "metadata": {},
     "output_type": "execute_result"
    }
   ],
   "source": [
    "context_vec_2"
   ],
   "metadata": {
    "collapsed": false,
    "ExecuteTime": {
     "end_time": "2024-03-22T15:12:41.485200900Z",
     "start_time": "2024-03-22T15:12:41.475057600Z"
    }
   },
   "id": "48add0d1cf737010",
   "execution_count": 50
  },
  {
   "cell_type": "code",
   "outputs": [],
   "source": [
    "x_2 = inputs[1]\n",
    "d_in = inputs.shape[1]\n",
    "d_out = 2"
   ],
   "metadata": {
    "collapsed": false,
    "ExecuteTime": {
     "end_time": "2024-03-22T15:23:25.565172900Z",
     "start_time": "2024-03-22T15:23:25.558348500Z"
    }
   },
   "id": "5a02c8360b1562a5",
   "execution_count": 52
  },
  {
   "cell_type": "code",
   "outputs": [],
   "source": [
    "torch.manual_seed(36)\n",
    "W_query = torch.nn.Parameter(torch.rand(d_in,d_out),requires_grad=False)\n",
    "W_key = torch.nn.Parameter(torch.rand(d_in,d_out),requires_grad=False)\n",
    "W_value = torch.nn.Parameter(torch.rand(d_in,d_out),requires_grad=False)"
   ],
   "metadata": {
    "collapsed": false,
    "ExecuteTime": {
     "end_time": "2024-03-22T15:24:23.172223200Z",
     "start_time": "2024-03-22T15:24:23.148482200Z"
    }
   },
   "id": "2777a4b447cddd1d",
   "execution_count": 53
  },
  {
   "cell_type": "code",
   "outputs": [
    {
     "name": "stdout",
     "output_type": "stream",
     "text": [
      "tensor([0.2965, 0.1616])\n"
     ]
    }
   ],
   "source": [
    "query_2 =  x_2 @ W_query\n",
    "key_2 = x_2 @ W_key\n",
    "value_2 = x_2 @ W_value\n",
    "print(query_2)"
   ],
   "metadata": {
    "collapsed": false,
    "ExecuteTime": {
     "end_time": "2024-03-22T15:25:02.467462800Z",
     "start_time": "2024-03-22T15:25:02.444573900Z"
    }
   },
   "id": "cf837f454867fbb4",
   "execution_count": 54
  },
  {
   "cell_type": "code",
   "outputs": [
    {
     "data": {
      "text/plain": "(tensor([[1.1632, 1.1382],\n         [0.4719, 0.4382],\n         [0.7964, 0.6699],\n         [0.3919, 0.3125],\n         [0.8862, 0.9266],\n         [0.9021, 0.6401]]),\n tensor([[0.4902, 0.1993],\n         [0.2035, 0.0960],\n         [0.4837, 0.2322],\n         [0.2138, 0.1197],\n         [0.5521, 0.1523],\n         [0.4425, 0.3130]]))"
     },
     "execution_count": 55,
     "metadata": {},
     "output_type": "execute_result"
    }
   ],
   "source": [
    "keys = inputs @ W_key\n",
    "values = inputs @ W_value\n",
    "keys,values"
   ],
   "metadata": {
    "collapsed": false,
    "ExecuteTime": {
     "end_time": "2024-03-22T15:26:13.489792600Z",
     "start_time": "2024-03-22T15:26:13.477261800Z"
    }
   },
   "id": "175839e11ef0dbe6",
   "execution_count": 55
  },
  {
   "cell_type": "code",
   "outputs": [],
   "source": [
    "keys_2 = keys[1]"
   ],
   "metadata": {
    "collapsed": false,
    "ExecuteTime": {
     "end_time": "2024-03-22T15:27:48.885484400Z",
     "start_time": "2024-03-22T15:27:48.866468700Z"
    }
   },
   "id": "a050c8000fda5d03",
   "execution_count": 56
  },
  {
   "cell_type": "code",
   "outputs": [
    {
     "name": "stdout",
     "output_type": "stream",
     "text": [
      "tensor(0.2107)\n"
     ]
    }
   ],
   "source": [
    "attn_scores_22 = query_2.dot(key_2)\n",
    "print(attn_scores_22)"
   ],
   "metadata": {
    "collapsed": false,
    "ExecuteTime": {
     "end_time": "2024-03-22T15:28:02.580063800Z",
     "start_time": "2024-03-22T15:28:02.570376200Z"
    }
   },
   "id": "dc67b6c5136c98ab",
   "execution_count": 57
  },
  {
   "cell_type": "code",
   "outputs": [
    {
     "data": {
      "text/plain": "tensor([0.5288, 0.2107, 0.3444, 0.1667, 0.4125, 0.3709])"
     },
     "execution_count": 58,
     "metadata": {},
     "output_type": "execute_result"
    }
   ],
   "source": [
    "attn_scores_2 = query_2 @ keys.T\n",
    "attn_scores_2"
   ],
   "metadata": {
    "collapsed": false,
    "ExecuteTime": {
     "end_time": "2024-03-22T15:28:18.222408100Z",
     "start_time": "2024-03-22T15:28:18.207835800Z"
    }
   },
   "id": "5c0caab6ff9ade07",
   "execution_count": 58
  },
  {
   "cell_type": "code",
   "outputs": [
    {
     "data": {
      "text/plain": "tensor([0.1899, 0.1517, 0.1667, 0.1470, 0.1749, 0.1698])"
     },
     "execution_count": 60,
     "metadata": {},
     "output_type": "execute_result"
    }
   ],
   "source": [
    "d_k = keys.shape[-1]\n",
    "attn_weights_2 = torch.softmax(attn_scores_2/d_k**0.5,dim=-1)\n",
    "attn_weights_2"
   ],
   "metadata": {
    "collapsed": false,
    "ExecuteTime": {
     "end_time": "2024-03-22T15:29:48.447811500Z",
     "start_time": "2024-03-22T15:29:48.439445200Z"
    }
   },
   "id": "cf1e1a72a178bb57",
   "execution_count": 60
  },
  {
   "cell_type": "code",
   "outputs": [
    {
     "data": {
      "text/plain": "tensor([0.4077, 0.1885])"
     },
     "execution_count": 62,
     "metadata": {},
     "output_type": "execute_result"
    }
   ],
   "source": [
    "context_vec = attn_weights_2 @ values\n",
    "context_vec"
   ],
   "metadata": {
    "collapsed": false,
    "ExecuteTime": {
     "end_time": "2024-03-22T15:31:10.203141500Z",
     "start_time": "2024-03-22T15:31:10.193201900Z"
    }
   },
   "id": "2fbbf01c2b12b93f",
   "execution_count": 62
  },
  {
   "cell_type": "code",
   "outputs": [],
   "source": [
    "import torch.nn as nn\n",
    "\n",
    "class SelfAttention_V1(nn.Module):\n",
    "    def __init__(self,d_in,d_out):\n",
    "        super().__init__()\n",
    "        self.d_in = d_in\n",
    "        self.d_out = d_out\n",
    "        self.W_query = nn.Parameter(torch.rand(self.d_in,self.d_out))\n",
    "        self.W_key = nn.Parameter(torch.rand(self.d_in,self.d_out))\n",
    "        self.W_value = nn.Parameter(torch.rand(self.d_in,self.d_out))\n",
    "    \n",
    "    def forward(self,x):\n",
    "        keys = x @ self.W_key\n",
    "        queries = x @ self.W_query\n",
    "        values = x @ self.W_value\n",
    "        attn_scores = queries @ keys.T \n",
    "        attn_weights = torch.softmax(attn_scores/keys.shape[-1]**0.5,dim=-1)\n",
    "        context_vec = attn_weights @ values\n",
    "        \n",
    "        return context_vec"
   ],
   "metadata": {
    "collapsed": false,
    "ExecuteTime": {
     "end_time": "2024-03-22T16:15:24.491093400Z",
     "start_time": "2024-03-22T16:15:24.477965900Z"
    }
   },
   "id": "2a18caeade024c27",
   "execution_count": 84
  },
  {
   "cell_type": "code",
   "outputs": [
    {
     "data": {
      "text/plain": "tensor([[0.4222, 0.1929],\n        [0.4077, 0.1885],\n        [0.4145, 0.1897],\n        [0.4057, 0.1875],\n        [0.4183, 0.1914],\n        [0.4148, 0.1896]], grad_fn=<MmBackward0>)"
     },
     "execution_count": 85,
     "metadata": {},
     "output_type": "execute_result"
    }
   ],
   "source": [
    "torch.manual_seed(36)\n",
    "sa_V1 = SelfAttention_V1(d_in,d_out)\n",
    "sa_V1(inputs)"
   ],
   "metadata": {
    "collapsed": false,
    "ExecuteTime": {
     "end_time": "2024-03-22T16:15:24.698852300Z",
     "start_time": "2024-03-22T16:15:24.691537400Z"
    }
   },
   "id": "93817782848cd0d8",
   "execution_count": 85
  },
  {
   "cell_type": "code",
   "outputs": [
    {
     "data": {
      "text/plain": "tensor([0.4077, 0.1885])"
     },
     "execution_count": 72,
     "metadata": {},
     "output_type": "execute_result"
    }
   ],
   "source": [
    "context_vec"
   ],
   "metadata": {
    "collapsed": false,
    "ExecuteTime": {
     "end_time": "2024-03-22T16:07:44.797399Z",
     "start_time": "2024-03-22T16:07:44.785931500Z"
    }
   },
   "id": "89d44cf45e030f85",
   "execution_count": 72
  },
  {
   "cell_type": "code",
   "outputs": [],
   "source": [
    "class SelfAttention_V2(nn.Module):\n",
    "    def __init__(self,d_in,d_out,bias=False):\n",
    "        super().__init__()\n",
    "        self.d_in = d_in\n",
    "        self.d_out = d_out\n",
    "        self.w_query = nn.Linear(self.d_in,self.d_out,bias=bias)\n",
    "        self.w_key = nn.Linear(self.d_in,self.d_out,bias=bias)\n",
    "        self.w_value = nn.Linear(self.d_in,self.d_out,bias=bias)\n",
    "        \n",
    "    def forward(self,x):\n",
    "        queries = self.w_query(x)\n",
    "        keys = self.w_key(x)\n",
    "        values = self.w_value(x)\n",
    "        \n",
    "        attn_score = queries @ keys.T\n",
    "        attn_weights = torch.softmax(attn_score/keys.shape[-1]**0.5,dim=1)\n",
    "        context_vec = attn_weights @ values\n",
    "        return context_vec"
   ],
   "metadata": {
    "collapsed": false,
    "ExecuteTime": {
     "end_time": "2024-03-22T16:15:43.210631800Z",
     "start_time": "2024-03-22T16:15:43.200923Z"
    }
   },
   "id": "7a98ae1049ce6e09",
   "execution_count": 88
  },
  {
   "cell_type": "code",
   "outputs": [
    {
     "data": {
      "text/plain": "tensor([[-0.1864, -0.3061],\n        [-0.1917, -0.3099],\n        [-0.1943, -0.3117],\n        [-0.1942, -0.3116],\n        [-0.1910, -0.3094],\n        [-0.1943, -0.3117]], grad_fn=<MmBackward0>)"
     },
     "execution_count": 89,
     "metadata": {},
     "output_type": "execute_result"
    }
   ],
   "source": [
    "torch.manual_seed(36)\n",
    "sa_V2 = SelfAttention_V2(d_in,d_out)\n",
    "sa_V2(inputs)"
   ],
   "metadata": {
    "collapsed": false,
    "ExecuteTime": {
     "end_time": "2024-03-22T17:02:07.590447200Z",
     "start_time": "2024-03-22T17:02:07.575316200Z"
    }
   },
   "id": "89e2d68046cfe7d0",
   "execution_count": 89
  },
  {
   "cell_type": "code",
   "outputs": [
    {
     "name": "stdout",
     "output_type": "stream",
     "text": [
      "tensor([[0.1625, 0.1810, 0.1596, 0.1777, 0.1715, 0.1476],\n",
      "        [0.1655, 0.1715, 0.1642, 0.1704, 0.1682, 0.1601],\n",
      "        [0.1678, 0.1676, 0.1656, 0.1669, 0.1657, 0.1663],\n",
      "        [0.1671, 0.1675, 0.1660, 0.1671, 0.1663, 0.1660],\n",
      "        [0.1653, 0.1729, 0.1635, 0.1714, 0.1685, 0.1584],\n",
      "        [0.1683, 0.1679, 0.1653, 0.1670, 0.1653, 0.1664]],\n",
      "       grad_fn=<SoftmaxBackward0>)\n"
     ]
    }
   ],
   "source": [
    "queries = sa_V2.w_query(inputs)\n",
    "keys = sa_V2.w_key(inputs)\n",
    "attn_scores = queries @ keys.T\n",
    "attn_weights = torch.softmax(attn_scores/keys.shape[-1]**0.5,dim=1)\n",
    "print(attn_weights)"
   ],
   "metadata": {
    "collapsed": false,
    "ExecuteTime": {
     "end_time": "2024-03-22T17:04:43.552514700Z",
     "start_time": "2024-03-22T17:04:43.542165900Z"
    }
   },
   "id": "5b12a3e8c72ad2a",
   "execution_count": 90
  },
  {
   "cell_type": "code",
   "outputs": [
    {
     "data": {
      "text/plain": "tensor([[-2.8939e-01, -1.3656e-01, -3.1452e-01, -1.6278e-01, -2.1338e-01,\n         -4.2494e-01],\n        [-9.6433e-02, -4.5649e-02, -1.0722e-01, -5.5150e-02, -7.3396e-02,\n         -1.4326e-01],\n        [ 5.5032e-04, -8.3603e-04, -1.8121e-02, -6.7263e-03, -1.7345e-02,\n         -1.2046e-02],\n        [-6.5399e-03, -3.6328e-03, -1.6447e-02, -7.1887e-03, -1.3678e-02,\n         -1.6016e-02],\n        [-1.2094e-01, -5.7377e-02, -1.3663e-01, -6.9977e-02, -9.4091e-02,\n         -1.8115e-01],\n        [ 3.2356e-03,  1.9355e-05, -2.2239e-02, -7.8603e-03, -2.2037e-02,\n         -1.2933e-02]], grad_fn=<MmBackward0>)"
     },
     "execution_count": 104,
     "metadata": {},
     "output_type": "execute_result"
    }
   ],
   "source": [
    "attn_scores"
   ],
   "metadata": {
    "collapsed": false,
    "ExecuteTime": {
     "end_time": "2024-03-22T17:08:38.416596200Z",
     "start_time": "2024-03-22T17:08:38.401093600Z"
    }
   },
   "id": "c94df3bdd1386fad",
   "execution_count": 104
  },
  {
   "cell_type": "code",
   "outputs": [
    {
     "data": {
      "text/plain": "tensor([[1., 0., 0., 0., 0., 0.],\n        [1., 1., 0., 0., 0., 0.],\n        [1., 1., 1., 0., 0., 0.],\n        [1., 1., 1., 1., 0., 0.],\n        [1., 1., 1., 1., 1., 0.],\n        [1., 1., 1., 1., 1., 1.]])"
     },
     "execution_count": 95,
     "metadata": {},
     "output_type": "execute_result"
    }
   ],
   "source": [
    "block_size = attn_scores.shape[0]\n",
    "mask_simple = torch.tril(torch.ones(block_size,block_size))\n",
    "mask_simple"
   ],
   "metadata": {
    "collapsed": false,
    "ExecuteTime": {
     "end_time": "2024-03-22T17:05:31.079033500Z",
     "start_time": "2024-03-22T17:05:31.070413600Z"
    }
   },
   "id": "8be5a85bc1f3e22c",
   "execution_count": 95
  },
  {
   "cell_type": "code",
   "outputs": [
    {
     "data": {
      "text/plain": "tensor([[0.1625, 0.0000, 0.0000, 0.0000, 0.0000, 0.0000],\n        [0.1655, 0.1715, 0.0000, 0.0000, 0.0000, 0.0000],\n        [0.1678, 0.1676, 0.1656, 0.0000, 0.0000, 0.0000],\n        [0.1671, 0.1675, 0.1660, 0.1671, 0.0000, 0.0000],\n        [0.1653, 0.1729, 0.1635, 0.1714, 0.1685, 0.0000],\n        [0.1683, 0.1679, 0.1653, 0.1670, 0.1653, 0.1664]],\n       grad_fn=<MulBackward0>)"
     },
     "execution_count": 96,
     "metadata": {},
     "output_type": "execute_result"
    }
   ],
   "source": [
    "masked_simple = attn_weights* mask_simple\n",
    "masked_simple"
   ],
   "metadata": {
    "collapsed": false,
    "ExecuteTime": {
     "end_time": "2024-03-22T17:05:52.904734Z",
     "start_time": "2024-03-22T17:05:52.881395500Z"
    }
   },
   "id": "3c7823fcc43c1168",
   "execution_count": 96
  },
  {
   "cell_type": "code",
   "outputs": [
    {
     "data": {
      "text/plain": "tensor([[1.0000, 0.0000, 0.0000, 0.0000, 0.0000, 0.0000],\n        [0.4910, 0.5090, 0.0000, 0.0000, 0.0000, 0.0000],\n        [0.3349, 0.3346, 0.3305, 0.0000, 0.0000, 0.0000],\n        [0.2503, 0.2509, 0.2486, 0.2502, 0.0000, 0.0000],\n        [0.1964, 0.2055, 0.1943, 0.2036, 0.2002, 0.0000],\n        [0.1683, 0.1679, 0.1653, 0.1670, 0.1653, 0.1664]],\n       grad_fn=<DivBackward0>)"
     },
     "execution_count": 100,
     "metadata": {},
     "output_type": "execute_result"
    }
   ],
   "source": [
    "row_sum = masked_simple.sum(dim=1,keepdim=True)\n",
    "masked_simple_norm = masked_simple/row_sum\n",
    "masked_simple_norm"
   ],
   "metadata": {
    "collapsed": false,
    "ExecuteTime": {
     "end_time": "2024-03-22T17:06:57.795268500Z",
     "start_time": "2024-03-22T17:06:57.785241900Z"
    }
   },
   "id": "df9f61cb0cdc31e3",
   "execution_count": 100
  },
  {
   "cell_type": "code",
   "outputs": [
    {
     "name": "stdout",
     "output_type": "stream",
     "text": [
      "tensor([[-2.8939e-01,        -inf,        -inf,        -inf,        -inf,\n",
      "                -inf],\n",
      "        [-9.6433e-02, -4.5649e-02,        -inf,        -inf,        -inf,\n",
      "                -inf],\n",
      "        [ 5.5032e-04, -8.3603e-04, -1.8121e-02,        -inf,        -inf,\n",
      "                -inf],\n",
      "        [-6.5399e-03, -3.6328e-03, -1.6447e-02, -7.1887e-03,        -inf,\n",
      "                -inf],\n",
      "        [-1.2094e-01, -5.7377e-02, -1.3663e-01, -6.9977e-02, -9.4091e-02,\n",
      "                -inf],\n",
      "        [ 3.2356e-03,  1.9355e-05, -2.2239e-02, -7.8603e-03, -2.2037e-02,\n",
      "         -1.2933e-02]], grad_fn=<MaskedFillBackward0>)\n"
     ]
    }
   ],
   "source": [
    "mask = torch.triu(torch.ones(block_size,block_size),diagonal=1)\n",
    "masked = attn_scores.masked_fill(mask.bool(),-torch.inf)\n",
    "print(masked)"
   ],
   "metadata": {
    "collapsed": false,
    "ExecuteTime": {
     "end_time": "2024-03-22T17:09:36.156290200Z",
     "start_time": "2024-03-22T17:09:36.149502Z"
    }
   },
   "id": "a6bbe071f2d5f2b2",
   "execution_count": 111
  },
  {
   "cell_type": "code",
   "outputs": [
    {
     "data": {
      "text/plain": "tensor([[1.0000, 0.0000, 0.0000, 0.0000, 0.0000, 0.0000],\n        [0.4910, 0.5090, 0.0000, 0.0000, 0.0000, 0.0000],\n        [0.3349, 0.3346, 0.3305, 0.0000, 0.0000, 0.0000],\n        [0.2503, 0.2509, 0.2486, 0.2502, 0.0000, 0.0000],\n        [0.1964, 0.2055, 0.1943, 0.2036, 0.2002, 0.0000],\n        [0.1683, 0.1679, 0.1653, 0.1670, 0.1653, 0.1664]],\n       grad_fn=<SoftmaxBackward0>)"
     },
     "execution_count": 112,
     "metadata": {},
     "output_type": "execute_result"
    }
   ],
   "source": [
    "attn_weights = torch.softmax(masked/keys.shape[-1] **0.5,dim=1)\n",
    "attn_weights"
   ],
   "metadata": {
    "collapsed": false,
    "ExecuteTime": {
     "end_time": "2024-03-22T17:10:26.523504200Z",
     "start_time": "2024-03-22T17:10:26.513175Z"
    }
   },
   "id": "4cae799a18860a19",
   "execution_count": 112
  },
  {
   "cell_type": "code",
   "outputs": [
    {
     "data": {
      "text/plain": "tensor([[0.4902, 0.1993],\n        [0.3443, 0.1467],\n        [0.3921, 0.1756],\n        [0.3475, 0.1616],\n        [0.3861, 0.1588],\n        [0.3971, 0.1852]], grad_fn=<MmBackward0>)"
     },
     "execution_count": 114,
     "metadata": {},
     "output_type": "execute_result"
    }
   ],
   "source": [
    "context_vec = attn_weights @ values\n",
    "context_vec"
   ],
   "metadata": {
    "collapsed": false,
    "ExecuteTime": {
     "end_time": "2024-03-22T17:10:45.958986700Z",
     "start_time": "2024-03-22T17:10:45.947552400Z"
    }
   },
   "id": "a968c74fe00676a5",
   "execution_count": 114
  },
  {
   "cell_type": "code",
   "outputs": [
    {
     "data": {
      "text/plain": "tensor([[2., 2., 0., 2., 2., 0.],\n        [2., 2., 2., 2., 2., 2.],\n        [2., 2., 0., 2., 0., 2.],\n        [2., 0., 2., 0., 0., 2.],\n        [2., 2., 2., 0., 2., 0.],\n        [0., 2., 0., 2., 0., 0.]])"
     },
     "execution_count": 116,
     "metadata": {},
     "output_type": "execute_result"
    }
   ],
   "source": [
    "torch.manual_seed(36)\n",
    "dropout = torch.nn.Dropout(0.5)\n",
    "example = torch.ones(6,6)\n",
    "dropout(example)"
   ],
   "metadata": {
    "collapsed": false,
    "ExecuteTime": {
     "end_time": "2024-03-22T17:12:11.111982300Z",
     "start_time": "2024-03-22T17:12:11.085530400Z"
    }
   },
   "id": "a83e8ce013bf9937",
   "execution_count": 116
  },
  {
   "cell_type": "code",
   "outputs": [
    {
     "data": {
      "text/plain": "tensor([[2.0000, 0.0000, 0.0000, 0.0000, 0.0000, 0.0000],\n        [0.9820, 0.0000, 0.0000, 0.0000, 0.0000, 0.0000],\n        [0.0000, 0.6692, 0.0000, 0.0000, 0.0000, 0.0000],\n        [0.0000, 0.5017, 0.0000, 0.0000, 0.0000, 0.0000],\n        [0.3929, 0.0000, 0.3885, 0.0000, 0.4004, 0.0000],\n        [0.3365, 0.3358, 0.3305, 0.3339, 0.3306, 0.3327]],\n       grad_fn=<MulBackward0>)"
     },
     "execution_count": 117,
     "metadata": {},
     "output_type": "execute_result"
    }
   ],
   "source": [
    "dropout(attn_weights)"
   ],
   "metadata": {
    "collapsed": false,
    "ExecuteTime": {
     "end_time": "2024-03-22T17:12:41.685037400Z",
     "start_time": "2024-03-22T17:12:41.662203500Z"
    }
   },
   "id": "59d22d5eff125b26",
   "execution_count": 117
  },
  {
   "cell_type": "code",
   "outputs": [],
   "source": [],
   "metadata": {
    "collapsed": false
   },
   "id": "4ee286337b271c53"
  }
 ],
 "metadata": {
  "kernelspec": {
   "display_name": "Python 3",
   "language": "python",
   "name": "python3"
  },
  "language_info": {
   "codemirror_mode": {
    "name": "ipython",
    "version": 2
   },
   "file_extension": ".py",
   "mimetype": "text/x-python",
   "name": "python",
   "nbconvert_exporter": "python",
   "pygments_lexer": "ipython2",
   "version": "2.7.6"
  }
 },
 "nbformat": 4,
 "nbformat_minor": 5
}
