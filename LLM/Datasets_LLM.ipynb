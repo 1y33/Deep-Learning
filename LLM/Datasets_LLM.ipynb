{
 "cells": [
  {
   "cell_type": "code",
   "execution_count": 2,
   "id": "initial_id",
   "metadata": {
    "collapsed": true,
    "ExecuteTime": {
     "end_time": "2024-03-21T16:45:31.994424600Z",
     "start_time": "2024-03-21T16:45:31.983886900Z"
    }
   },
   "outputs": [
    {
     "name": "stdout",
     "output_type": "stream",
     "text": [
      "Total number of chars : 20482\n",
      "I HAD always thought Jack Gisburn rather a cheap genius--though a good fellow enough--so it was no \n"
     ]
    }
   ],
   "source": [
    "with open(\"The_Verdict.txt\",\"r\",encoding=\"utf-8\") as f:\n",
    "    raw_text = f.read()\n",
    "\n",
    "print(\"Total number of chars :\" ,len(raw_text))\n",
    "print(raw_text[:99])"
   ]
  },
  {
   "cell_type": "code",
   "outputs": [
    {
     "name": "stdout",
     "output_type": "stream",
     "text": [
      "['Hello', ',', '', ' ', 'world', '.', 'This', ' ', '', ',', '', ' ', 'is', ' ', 'a', ' ', 'test']\n"
     ]
    }
   ],
   "source": [
    "import re \n",
    "text = \"Hello, world.This , is a test\"\n",
    "result = re.split(r'([,.]|\\s)',text)\n",
    "print(result)"
   ],
   "metadata": {
    "collapsed": false,
    "ExecuteTime": {
     "end_time": "2024-03-21T16:48:31.450136Z",
     "start_time": "2024-03-21T16:48:31.440126800Z"
    }
   },
   "id": "3467ff4b8b871059",
   "execution_count": 7
  },
  {
   "cell_type": "code",
   "outputs": [
    {
     "name": "stdout",
     "output_type": "stream",
     "text": [
      "['Hello', ',', 'world', '.', 'This', ',', 'is', 'a', 'test']\n"
     ]
    }
   ],
   "source": [
    "result  = [item.strip() for item in result if item.strip()]\n",
    "print(result)"
   ],
   "metadata": {
    "collapsed": false,
    "ExecuteTime": {
     "end_time": "2024-03-21T16:49:10.410929800Z",
     "start_time": "2024-03-21T16:49:10.402413200Z"
    }
   },
   "id": "6cf6a531b1aa92ef",
   "execution_count": 8
  },
  {
   "cell_type": "code",
   "outputs": [
    {
     "name": "stdout",
     "output_type": "stream",
     "text": [
      "['Hello', ',', '', ' ', 'world', '.', 'This', ' ', '', '--', '', ' ', '', '?', '', ' ', 'is', ' ', 'a', ' ', 'test']\n"
     ]
    }
   ],
   "source": [
    "text = \"Hello, world.This -- ? is a test\"\n",
    "result = re.split(r'([?/_!()`,.]|--|\\s)',text)\n",
    "print(result)"
   ],
   "metadata": {
    "collapsed": false,
    "ExecuteTime": {
     "end_time": "2024-03-21T16:51:01.993699700Z",
     "start_time": "2024-03-21T16:51:01.988014200Z"
    }
   },
   "id": "4ab8e414d3d2608d",
   "execution_count": 10
  },
  {
   "cell_type": "code",
   "outputs": [
    {
     "name": "stdout",
     "output_type": "stream",
     "text": [
      "['Hello', ',', 'world', '.', 'This', '--', '?', 'is', 'a', 'test']\n"
     ]
    }
   ],
   "source": [
    "result = [item.strip() for item in result if item.strip()]\n",
    "print(result)"
   ],
   "metadata": {
    "collapsed": false,
    "ExecuteTime": {
     "end_time": "2024-03-21T16:51:39.843395700Z",
     "start_time": "2024-03-21T16:51:39.837879600Z"
    }
   },
   "id": "94fd093fc92b2c7e",
   "execution_count": 13
  },
  {
   "cell_type": "markdown",
   "source": [
    "## Applying to the whole text"
   ],
   "metadata": {
    "collapsed": false
   },
   "id": "6768185ed86ffc0e"
  },
  {
   "cell_type": "code",
   "outputs": [
    {
     "name": "stdout",
     "output_type": "stream",
     "text": [
      "4478\n"
     ]
    }
   ],
   "source": [
    "pre_processed = re.split(r'([?/_!()`,\\\".]|--|\\s)',raw_text)\n",
    "pre_processed = [item.strip() for item in pre_processed if item.strip()]\n",
    "print(len(pre_processed))"
   ],
   "metadata": {
    "collapsed": false,
    "ExecuteTime": {
     "end_time": "2024-03-21T16:53:26.880520400Z",
     "start_time": "2024-03-21T16:53:26.876001200Z"
    }
   },
   "id": "ab7916b0e73eb7cf",
   "execution_count": 16
  },
  {
   "cell_type": "code",
   "outputs": [
    {
     "name": "stdout",
     "output_type": "stream",
     "text": [
      "['I', 'HAD', 'always', 'thought', 'Jack', 'Gisburn', 'rather', 'a', 'cheap', 'genius', '--', 'though', 'a', 'good', 'fellow', 'enough', '--', 'so', 'it', 'was', 'no', 'great', 'surprise', 'to', 'me', 'to', 'hear', 'that', ',', 'in']\n"
     ]
    }
   ],
   "source": [
    "print(pre_processed[:30])"
   ],
   "metadata": {
    "collapsed": false,
    "ExecuteTime": {
     "end_time": "2024-03-21T16:53:45.501381600Z",
     "start_time": "2024-03-21T16:53:45.492725500Z"
    }
   },
   "id": "f35ea692c15ee5b5",
   "execution_count": 17
  },
  {
   "cell_type": "markdown",
   "source": [
    "## Creating the vocab"
   ],
   "metadata": {
    "collapsed": false
   },
   "id": "33e811b442958b64"
  },
  {
   "cell_type": "code",
   "outputs": [
    {
     "name": "stdout",
     "output_type": "stream",
     "text": [
      "1183\n"
     ]
    }
   ],
   "source": [
    "all_words = sorted(list(set(pre_processed)))\n",
    "vocab_size = len(all_words)\n",
    "print(vocab_size)"
   ],
   "metadata": {
    "collapsed": false,
    "ExecuteTime": {
     "end_time": "2024-03-21T16:55:41.682299400Z",
     "start_time": "2024-03-21T16:55:41.674692800Z"
    }
   },
   "id": "2666ff1ac6530af9",
   "execution_count": 18
  },
  {
   "cell_type": "code",
   "outputs": [
    {
     "name": "stdout",
     "output_type": "stream",
     "text": [
      "('!', 0)\n",
      "('\"', 1)\n",
      "(\"'\", 2)\n",
      "(\"'Are\", 3)\n",
      "(\"'It's\", 4)\n",
      "(\"'coming'\", 5)\n",
      "(\"'done'\", 6)\n",
      "(\"'subject\", 7)\n",
      "(\"'technique'\", 8)\n",
      "(\"'way\", 9)\n",
      "('(', 10)\n",
      "(')', 11)\n",
      "(',', 12)\n",
      "('--', 13)\n",
      "('.', 14)\n",
      "(':', 15)\n",
      "(';', 16)\n",
      "('?', 17)\n",
      "('A', 18)\n",
      "('Ah', 19)\n",
      "('Among', 20)\n",
      "('And', 21)\n",
      "('Arrt', 22)\n",
      "('As', 23)\n",
      "('At', 24)\n",
      "('Be', 25)\n",
      "('Begin', 26)\n",
      "('Burlington', 27)\n",
      "('But', 28)\n",
      "('By', 29)\n",
      "('Carlo', 30)\n",
      "('Carlo;', 31)\n",
      "('Chicago', 32)\n",
      "('Claude', 33)\n",
      "('Come', 34)\n",
      "('Croft', 35)\n",
      "('Destroyed', 36)\n",
      "('Devonshire', 37)\n",
      "(\"Don't\", 38)\n",
      "('Dubarry', 39)\n",
      "('Emperors', 40)\n",
      "('Florence', 41)\n",
      "('For', 42)\n",
      "('Gallery', 43)\n",
      "('Gideon', 44)\n",
      "('Gisburn', 45)\n",
      "(\"Gisburn's\", 46)\n",
      "('Gisburns', 47)\n",
      "('Grafton', 48)\n",
      "('Greek', 49)\n",
      "('Grindle', 50)\n",
      "(\"Grindle's\", 51)\n"
     ]
    }
   ],
   "source": [
    "vocab = { token : integer for integer,token in enumerate(all_words)}\n",
    "for i , item in enumerate(vocab.items()):\n",
    "    print(item)\n",
    "    if i>50:\n",
    "        break"
   ],
   "metadata": {
    "collapsed": false,
    "ExecuteTime": {
     "end_time": "2024-03-21T16:57:00.343506100Z",
     "start_time": "2024-03-21T16:57:00.334976600Z"
    }
   },
   "id": "7ebab341629f2f3",
   "execution_count": 22
  },
  {
   "cell_type": "code",
   "outputs": [],
   "source": [
    "class SimpleTokenizer:\n",
    "    def __init__(self,vocab):\n",
    "        self.str_to_int = vocab\n",
    "        self.int_to_str = {i:s for s,i in vocab.items()}\n",
    "        \n",
    "    def encoder(self,text):\n",
    "        pre_processed = re.split(r'([,.?_!\"()\\']|--|\\s)',text)\n",
    "        pre_processed = [item.strip() for item in pre_processed if item.strip()]\n",
    "        \n",
    "        ids = [self.str_to_int[s] for s in pre_processed]\n",
    "        return ids\n",
    "    \n",
    "    def decoder(self,ids):\n",
    "        text = \" \".join([self.int_to_str[i] for i in ids])\n",
    "        text = re.sub(r'\\s+([,.?!\"()\\'])',r'\\1',text)\n",
    "        return text"
   ],
   "metadata": {
    "collapsed": false,
    "ExecuteTime": {
     "end_time": "2024-03-21T17:09:02.819790700Z",
     "start_time": "2024-03-21T17:09:02.813272600Z"
    }
   },
   "id": "c7ee09c7957ea935",
   "execution_count": 40
  },
  {
   "cell_type": "code",
   "outputs": [
    {
     "name": "stdout",
     "output_type": "stream",
     "text": [
      "[58, 785, 17]\n"
     ]
    }
   ],
   "source": [
    "tokenizer = SimpleTokenizer(vocab)\n",
    "\n",
    "text = (\"He painted?\")\n",
    "ids = tokenizer.encoder(text)\n",
    "print(ids)"
   ],
   "metadata": {
    "collapsed": false,
    "ExecuteTime": {
     "end_time": "2024-03-21T17:09:07.295722900Z",
     "start_time": "2024-03-21T17:09:07.288304Z"
    }
   },
   "id": "c9a7ef3930c01713",
   "execution_count": 43
  },
  {
   "cell_type": "code",
   "outputs": [
    {
     "data": {
      "text/plain": "'He painted?'"
     },
     "execution_count": 44,
     "metadata": {},
     "output_type": "execute_result"
    }
   ],
   "source": [
    "tokenizer.decoder(ids)"
   ],
   "metadata": {
    "collapsed": false,
    "ExecuteTime": {
     "end_time": "2024-03-21T17:09:07.475977800Z",
     "start_time": "2024-03-21T17:09:07.465665100Z"
    }
   },
   "id": "6d16766fe77830d5",
   "execution_count": 44
  },
  {
   "cell_type": "code",
   "outputs": [],
   "source": [
    "all_tokens = sorted(list(set(pre_processed)))\n",
    "all_tokens.extend([\"<|endoftext|>\",\"<|unk|>\"])\n",
    "vocab = {tokens:integer for integer,tokens in enumerate(all_tokens)}\n"
   ],
   "metadata": {
    "collapsed": false,
    "ExecuteTime": {
     "end_time": "2024-03-21T17:13:23.558594900Z",
     "start_time": "2024-03-21T17:13:23.550648Z"
    }
   },
   "id": "8cda817931884ac",
   "execution_count": 53
  },
  {
   "cell_type": "code",
   "outputs": [
    {
     "name": "stdout",
     "output_type": "stream",
     "text": [
      "('younger', 1180)\n",
      "('your', 1181)\n",
      "('yourself', 1182)\n",
      "('<|endoftext|>', 1183)\n",
      "('<|unk|>', 1184)\n"
     ]
    }
   ],
   "source": [
    "for i,item in enumerate(list(vocab.items())[-5:]):\n",
    "    print(item)"
   ],
   "metadata": {
    "collapsed": false,
    "ExecuteTime": {
     "end_time": "2024-03-21T17:13:57.463005700Z",
     "start_time": "2024-03-21T17:13:57.454997200Z"
    }
   },
   "id": "2776ccbc1a191aa",
   "execution_count": 55
  },
  {
   "cell_type": "code",
   "outputs": [],
   "source": [
    "class SimpleTokenizerV2:\n",
    "    def __init__(self,vocab):\n",
    "        self.str_to_int = vocab\n",
    "        self.int_to_str = {i:s for s,i in vocab.items()}\n",
    "        \n",
    "    def encoder(self,text):\n",
    "        pre_processed = re.split(r'([,.?_!\"()\\']|--|\\s)',text)\n",
    "        pre_processed = [item.strip() for item in pre_processed if item.strip()]\n",
    "        pre_processed = [item if item in self.str_to_int else \"<|unk|>\" for item in pre_processed]\n",
    "        \n",
    "        ids = [self.str_to_int[s] for s in pre_processed]\n",
    "        return ids\n",
    "    \n",
    "    def decoder(self,ids):\n",
    "        text = \" \".join([self.int_to_str[i] for i in ids])\n",
    "        text = re.sub(r'\\s+([,.?!\"()\\'])',r'\\1',text)\n",
    "        return text"
   ],
   "metadata": {
    "collapsed": false,
    "ExecuteTime": {
     "end_time": "2024-03-21T17:15:39.683340300Z",
     "start_time": "2024-03-21T17:15:39.668534600Z"
    }
   },
   "id": "b15e778a1a25a909",
   "execution_count": 56
  },
  {
   "cell_type": "code",
   "outputs": [
    {
     "name": "stdout",
     "output_type": "stream",
     "text": [
      "Hello, do you lke tea ?<|endoftext|> My name is cata\n"
     ]
    }
   ],
   "source": [
    "text_1 = \"Hello, do you lke tea ?\"\n",
    "text_2 = \"My name is cata\"\n",
    "text = \"<|endoftext|> \".join((text_1,text_2))\n",
    "print(text)"
   ],
   "metadata": {
    "collapsed": false,
    "ExecuteTime": {
     "end_time": "2024-03-21T17:17:45.381187600Z",
     "start_time": "2024-03-21T17:17:45.372987500Z"
    }
   },
   "id": "8238ce48a3fc2639",
   "execution_count": 60
  },
  {
   "cell_type": "code",
   "outputs": [
    {
     "name": "stdout",
     "output_type": "stream",
     "text": [
      "Hello, do you lke tea ?<|endoftext|> My name is cata\n",
      "[1184, 12, 379, 1177, 1184, 1020, 17, 1183, 84, 1184, 616, 1184]\n",
      "<|unk|>, do you <|unk|> tea? <|endoftext|> My <|unk|> is <|unk|>\n"
     ]
    }
   ],
   "source": [
    "tokenizer = SimpleTokenizerV2(vocab)\n",
    "print(text)\n",
    "print(tokenizer.encoder(text))\n",
    "print(tokenizer.decoder(tokenizer.encoder(text)))\n"
   ],
   "metadata": {
    "collapsed": false,
    "ExecuteTime": {
     "end_time": "2024-03-21T17:17:45.548795700Z",
     "start_time": "2024-03-21T17:17:45.539875900Z"
    }
   },
   "id": "61fbba69e33bb07",
   "execution_count": 61
  },
  {
   "cell_type": "code",
   "outputs": [
    {
     "name": "stdout",
     "output_type": "stream",
     "text": [
      "Collecting tiktoken\n",
      "  Obtaining dependency information for tiktoken from https://files.pythonhosted.org/packages/69/ca/0a71c1cdbf36da977bd306d295042087187954c32bfa259fa7afede0608b/tiktoken-0.6.0-cp311-cp311-win_amd64.whl.metadata\n",
      "  Downloading tiktoken-0.6.0-cp311-cp311-win_amd64.whl.metadata (6.8 kB)\n",
      "Requirement already satisfied: regex>=2022.1.18 in c:\\users\\catal\\anaconda3\\lib\\site-packages (from tiktoken) (2022.7.9)\n",
      "Requirement already satisfied: requests>=2.26.0 in c:\\users\\catal\\anaconda3\\lib\\site-packages (from tiktoken) (2.31.0)\n",
      "Requirement already satisfied: charset-normalizer<4,>=2 in c:\\users\\catal\\anaconda3\\lib\\site-packages (from requests>=2.26.0->tiktoken) (2.0.4)\n",
      "Requirement already satisfied: idna<4,>=2.5 in c:\\users\\catal\\anaconda3\\lib\\site-packages (from requests>=2.26.0->tiktoken) (3.4)\n",
      "Requirement already satisfied: urllib3<3,>=1.21.1 in c:\\users\\catal\\anaconda3\\lib\\site-packages (from requests>=2.26.0->tiktoken) (1.26.16)\n",
      "Requirement already satisfied: certifi>=2017.4.17 in c:\\users\\catal\\anaconda3\\lib\\site-packages (from requests>=2.26.0->tiktoken) (2023.11.17)\n",
      "Downloading tiktoken-0.6.0-cp311-cp311-win_amd64.whl (798 kB)\n",
      "   ---------------------------------------- 0.0/798.7 kB ? eta -:--:--\n",
      "   -------------- ------------------------- 286.7/798.7 kB 5.9 MB/s eta 0:00:01\n",
      "   ---------------------------------------- 798.7/798.7 kB 8.4 MB/s eta 0:00:00\n",
      "Installing collected packages: tiktoken\n",
      "Successfully installed tiktoken-0.6.0\n"
     ]
    },
    {
     "name": "stderr",
     "output_type": "stream",
     "text": [
      "DEPRECATION: Loading egg at c:\\users\\catal\\anaconda3\\lib\\site-packages\\dlib-19.24.2-py3.11-win-amd64.egg is deprecated. pip 23.3 will enforce this behaviour change. A possible replacement is to use pip for package installation..\n"
     ]
    }
   ],
   "source": [
    "!pip install tiktoken"
   ],
   "metadata": {
    "collapsed": false,
    "ExecuteTime": {
     "end_time": "2024-03-21T17:26:50.924417Z",
     "start_time": "2024-03-21T17:26:44.172862200Z"
    }
   },
   "id": "af4e2ee22ed13ae3",
   "execution_count": 62
  },
  {
   "cell_type": "code",
   "outputs": [
    {
     "name": "stdout",
     "output_type": "stream",
     "text": [
      "tiktoken version :  0.6.0\n"
     ]
    }
   ],
   "source": [
    "import importlib_metadata\n",
    "import tiktoken\n",
    "\n",
    "print(\"tiktoken version : \", importlib_metadata.version(\"tiktoken\"))"
   ],
   "metadata": {
    "collapsed": false,
    "ExecuteTime": {
     "end_time": "2024-03-21T17:29:23.124978200Z",
     "start_time": "2024-03-21T17:29:23.021415Z"
    }
   },
   "id": "25894c323a9e14ae",
   "execution_count": 68
  },
  {
   "cell_type": "code",
   "outputs": [],
   "source": [
    "tokenizer = tiktoken.get_encoding(\"gpt2\")"
   ],
   "metadata": {
    "collapsed": false,
    "ExecuteTime": {
     "end_time": "2024-03-21T17:30:16.695618200Z",
     "start_time": "2024-03-21T17:30:13.108225700Z"
    }
   },
   "id": "1e4a60d6a6f65b4f",
   "execution_count": 71
  },
  {
   "cell_type": "code",
   "outputs": [
    {
     "name": "stdout",
     "output_type": "stream",
     "text": [
      "[15496, 11, 703, 389, 345, 5633, 220, 50256, 314, 716, 287, 23356, 6080, 2394]\n"
     ]
    }
   ],
   "source": [
    "text = \"Hello, how are you ? <|endoftext|> I am in RomaniaFOOT\"\n",
    "integers = tokenizer.encode(text,allowed_special={\"<|endoftext|>\"})\n",
    "print(integers)"
   ],
   "metadata": {
    "collapsed": false,
    "ExecuteTime": {
     "end_time": "2024-03-21T17:33:44.210397600Z",
     "start_time": "2024-03-21T17:33:44.201745700Z"
    }
   },
   "id": "c976455879341c74",
   "execution_count": 75
  },
  {
   "cell_type": "code",
   "outputs": [
    {
     "name": "stdout",
     "output_type": "stream",
     "text": [
      "Hello, how are you ? <|endoftext|> I am in RomaniaFOOT\n"
     ]
    }
   ],
   "source": [
    "strings = tokenizer.decode(integers)\n",
    "print(strings)"
   ],
   "metadata": {
    "collapsed": false,
    "ExecuteTime": {
     "end_time": "2024-03-21T17:33:44.410664300Z",
     "start_time": "2024-03-21T17:33:44.403636200Z"
    }
   },
   "id": "e33d1182efa0470a",
   "execution_count": 76
  },
  {
   "cell_type": "markdown",
   "source": [
    "## Data sampling"
   ],
   "metadata": {
    "collapsed": false
   },
   "id": "23f5682b92e90dd6"
  },
  {
   "cell_type": "code",
   "outputs": [
    {
     "name": "stdout",
     "output_type": "stream",
     "text": [
      "5147\n"
     ]
    }
   ],
   "source": [
    "with open(\"The_Verdict.txt\",\"r\",encoding=\"utf-8\") as f:\n",
    "    raw_text = f.read()\n",
    "enc_text = tokenizer.encode(raw_text)\n",
    "print(len(enc_text))"
   ],
   "metadata": {
    "collapsed": false,
    "ExecuteTime": {
     "end_time": "2024-03-21T17:40:53.361847300Z",
     "start_time": "2024-03-21T17:40:53.351785300Z"
    }
   },
   "id": "c51d52c5199fba65",
   "execution_count": 78
  },
  {
   "cell_type": "code",
   "outputs": [
    {
     "name": "stdout",
     "output_type": "stream",
     "text": [
      "[40, 367, 2885, 1464, 1807, 3619, 402, 271, 10899, 2138, 257, 7026, 15632, 438, 2016, 257, 922, 5891, 1576, 438, 568, 340, 373, 645, 1049, 5975, 284, 502, 284, 3285, 326, 11, 287, 262, 6001, 286, 465, 13476, 11, 339, 550, 5710, 465, 12036, 11, 6405, 257, 5527, 27075, 11]\n"
     ]
    }
   ],
   "source": [
    "enc_sample = enc_text[:50]\n",
    "print(enc_sample )"
   ],
   "metadata": {
    "collapsed": false,
    "ExecuteTime": {
     "end_time": "2024-03-21T17:41:13.600455900Z",
     "start_time": "2024-03-21T17:41:13.591938500Z"
    }
   },
   "id": "c2b704b332aa472b",
   "execution_count": 80
  },
  {
   "cell_type": "code",
   "outputs": [
    {
     "name": "stdout",
     "output_type": "stream",
     "text": [
      "x: [40, 367, 2885, 1464]\n",
      "y:     [367, 2885, 1464]\n"
     ]
    }
   ],
   "source": [
    "context_size = 4\n",
    "\n",
    "x = enc_sample[:context_size]\n",
    "y = enc_sample[1:context_size]\n",
    "print(f\"x: {x}\")\n",
    "print(f\"y:     {y}\")"
   ],
   "metadata": {
    "collapsed": false,
    "ExecuteTime": {
     "end_time": "2024-03-21T17:42:20.898438300Z",
     "start_time": "2024-03-21T17:42:20.891068100Z"
    }
   },
   "id": "2e40f5ae073921c6",
   "execution_count": 82
  },
  {
   "cell_type": "code",
   "outputs": [
    {
     "name": "stdout",
     "output_type": "stream",
     "text": [
      "[40] ---> 367\n",
      "[40, 367] ---> 2885\n",
      "[40, 367, 2885] ---> 1464\n",
      "[40, 367, 2885, 1464] ---> 1807\n"
     ]
    }
   ],
   "source": [
    "for i in range(1,context_size+1):\n",
    "    context = enc_sample[:i]\n",
    "    desired = enc_sample[i]\n",
    "    print(context,\"--->\",desired)\n",
    "    "
   ],
   "metadata": {
    "collapsed": false,
    "ExecuteTime": {
     "end_time": "2024-03-21T17:45:20.912167400Z",
     "start_time": "2024-03-21T17:45:20.904859300Z"
    }
   },
   "id": "bcadca8a5dbb0b0a",
   "execution_count": 89
  },
  {
   "cell_type": "code",
   "outputs": [
    {
     "name": "stdout",
     "output_type": "stream",
     "text": [
      "I --->  H\n",
      "I H ---> AD\n",
      "I HAD --->  always\n",
      "I HAD always --->  thought\n"
     ]
    }
   ],
   "source": [
    "for i in range(1,context_size+1):\n",
    "    context = enc_sample[:i]\n",
    "    desired = enc_sample[i]\n",
    "    print(tokenizer.decode(context),\"--->\",tokenizer.decode([desired]))\n",
    "    "
   ],
   "metadata": {
    "collapsed": false,
    "ExecuteTime": {
     "end_time": "2024-03-21T17:45:21.045679300Z",
     "start_time": "2024-03-21T17:45:21.039766400Z"
    }
   },
   "id": "ad165c85b812eade",
   "execution_count": 90
  },
  {
   "cell_type": "code",
   "outputs": [],
   "source": [
    "import torch\n",
    "from torch.utils.data import Dataset"
   ],
   "metadata": {
    "collapsed": false,
    "ExecuteTime": {
     "end_time": "2024-03-21T17:49:09.121639Z",
     "start_time": "2024-03-21T17:49:02.856642Z"
    }
   },
   "id": "26e505a09ef51f67",
   "execution_count": 91
  },
  {
   "cell_type": "code",
   "outputs": [],
   "source": [
    "class GPTDatasetV1(Dataset):\n",
    "    def __init__(self,txt,tokenizer,max_length,stride):\n",
    "        self.tokenizer = tokenizer\n",
    "        self.inputs_ids = []\n",
    "        self.target_ids = []\n",
    "        \n",
    "        token_ids = tokenizer.encode(text,allowed_special={\"<|endoftext|>\"})\n",
    "        \n",
    "        for i in range(0,len(token_ids) - max_length,stride):\n",
    "            input_chunk = token_ids[i:i + max_length]\n",
    "            target_chunk = token_ids[i+1:i+max_length+1]\n",
    "            self.inputs_ids.append(torch.tensor(input_chunk))\n",
    "            self.target_ids.append(torch.tensor(target_chunk))\n",
    "    def __len__(self):\n",
    "        return len(self.inputs_ids)\n",
    "    def __getitem__(self, idx):\n",
    "        return self.inputs_ids[idx],self.target_ids[idx]"
   ],
   "metadata": {
    "collapsed": false,
    "ExecuteTime": {
     "end_time": "2024-03-21T20:46:39.367961700Z",
     "start_time": "2024-03-21T20:46:39.357955100Z"
    }
   },
   "id": "4f6f69b2f7209692",
   "execution_count": 108
  },
  {
   "cell_type": "code",
   "outputs": [],
   "source": [],
   "metadata": {
    "collapsed": false,
    "ExecuteTime": {
     "end_time": "2024-03-21T20:46:46.185145500Z",
     "start_time": "2024-03-21T20:46:46.172130800Z"
    }
   },
   "id": "ad1e19fb34f047ad",
   "execution_count": 109
  },
  {
   "cell_type": "code",
   "outputs": [],
   "source": [],
   "metadata": {
    "collapsed": false,
    "ExecuteTime": {
     "end_time": "2024-03-21T20:46:46.316925Z",
     "start_time": "2024-03-21T20:46:46.310276100Z"
    }
   },
   "id": "1882131cba847b93",
   "execution_count": 109
  },
  {
   "cell_type": "code",
   "outputs": [],
   "source": [
    "from torch.utils.data import DataLoader\n",
    "def create_dataloader(txt,batch_size=4,max_length=256,stride=128,shuffle=True):\n",
    "    toke = tiktoken.get_encoding(\"gpt2\")\n",
    "    dataset = GPTDatasetV1(txt,toke,max_length,stride)\n",
    "    dataloader = DataLoader(dataset,batch_size=batch_size,shuffle=shuffle)\n",
    "    \n",
    "    return dataloader"
   ],
   "metadata": {
    "collapsed": false,
    "ExecuteTime": {
     "end_time": "2024-03-21T20:46:46.808662200Z",
     "start_time": "2024-03-21T20:46:46.791487200Z"
    }
   },
   "id": "d16af86df78d7608",
   "execution_count": 110
  },
  {
   "cell_type": "code",
   "outputs": [
    {
     "name": "stdout",
     "output_type": "stream",
     "text": [
      "[tensor([[15496,    11,   703,   389]]), tensor([[ 11, 703, 389, 345]])]\n"
     ]
    }
   ],
   "source": [
    "with open(\"The_Verdict.txt\",\"r\",encoding=\"utf-8\") as f:\n",
    "    raw_text = f.read()\n",
    "dataloader = create_dataloader(raw_text,1,4,1,False)\n",
    "data_iter = iter(dataloader)\n",
    "first_batch = next(data_iter)\n",
    "\n",
    "print(first_batch)"
   ],
   "metadata": {
    "collapsed": false,
    "ExecuteTime": {
     "end_time": "2024-03-21T20:47:07.019172400Z",
     "start_time": "2024-03-21T20:47:07.007682900Z"
    }
   },
   "id": "d44cc2974f3f1f2b",
   "execution_count": 115
  },
  {
   "cell_type": "code",
   "outputs": [],
   "source": [],
   "metadata": {
    "collapsed": false
   },
   "id": "cb20407e65d42f15"
  }
 ],
 "metadata": {
  "kernelspec": {
   "display_name": "Python 3",
   "language": "python",
   "name": "python3"
  },
  "language_info": {
   "codemirror_mode": {
    "name": "ipython",
    "version": 2
   },
   "file_extension": ".py",
   "mimetype": "text/x-python",
   "name": "python",
   "nbconvert_exporter": "python",
   "pygments_lexer": "ipython2",
   "version": "2.7.6"
  }
 },
 "nbformat": 4,
 "nbformat_minor": 5
}
