{
  "cells": [
    {
      "cell_type": "markdown",
      "metadata": {
        "id": "view-in-github",
        "colab_type": "text"
      },
      "source": [
        "<a href=\"https://colab.research.google.com/github/1y33/Deep-Learning/blob/main/Age_Race_Gender_Classification_.ipynb\" target=\"_parent\"><img src=\"https://colab.research.google.com/assets/colab-badge.svg\" alt=\"Open In Colab\"/></a>"
      ]
    },
    {
      "cell_type": "code",
      "execution_count": 2,
      "metadata": {
        "id": "BKLF6iksOCkN"
      },
      "outputs": [],
      "source": [
        "import torch\n",
        "import torch.nn as nn\n",
        "import torchvision\n",
        "import numpy as np , cv2, pandas as pd , glob ,time\n",
        "import torch.nn.functional as F\n",
        "from torch.utils.data import Dataset, DataLoader\n",
        "from torchvision import transforms, datasets , models\n",
        "import matplotlib.pyplot as plt\n",
        "\n",
        "\n",
        "device=\"cuda\" if torch.cuda.is_available() else \"cpu\""
      ]
    },
    {
      "cell_type": "code",
      "execution_count": 3,
      "metadata": {
        "id": "7CGTN7soOh2C"
      },
      "outputs": [],
      "source": [
        "from pydrive.auth import GoogleAuth\n",
        "from pydrive.drive import GoogleDrive\n",
        "from google.colab import auth\n",
        "from oauth2client.client import GoogleCredentials\n",
        "\n",
        "auth.authenticate_user()\n",
        "gauth = GoogleAuth()\n",
        "gauth.credentials=GoogleCredentials.get_application_default()\n",
        "drive = GoogleDrive(gauth)\n",
        "\n",
        "def getFile_from_drive( file_id, name ):\n",
        "  downloaded = drive.CreateFile({'id': file_id})\n",
        "  downloaded.GetContentFile(name)\n",
        "\n",
        "getFile_from_drive('1Z1RqRo0_JiavaZw2yzZG6WETdZQ8qX86','fairface-img-margin025-trainval.zip')\n",
        "getFile_from_drive('1k5vvyREmHDW5TSM9QgB04Bvc8C8_7dl-','fairface-label-train.csv')\n",
        "getFile_from_drive('1_rtz1M1zhvS0d5vVoXUamnohB6cJ02iJ','fairface-label-val.csv')\n",
        "\n",
        "!unzip -qq fairface-img-margin025-trainval.zip"
      ]
    },
    {
      "cell_type": "code",
      "execution_count": 8,
      "metadata": {
        "id": "2aLdaXTFPQ3v"
      },
      "outputs": [],
      "source": [
        "trn_df=pd.read_csv(\"/content/fairface-label-train.csv\")\n",
        "val_df=pd.read_csv(\"/content/fairface-label-val.csv\")\n",
        "trn_df[\"race\"]=pd.factorize(trn_df[\"race\"])[0]\n",
        "val_df[\"race\"]=pd.factorize(val_df[\"race\"])[0]"
      ]
    },
    {
      "cell_type": "code",
      "execution_count": 19,
      "metadata": {
        "colab": {
          "base_uri": "https://localhost:8080/"
        },
        "id": "_7aMH3vGfAiH",
        "outputId": "dbba443e-5228-46ae-9bc1-763f9e50ae7b"
      },
      "outputs": [
        {
          "output_type": "execute_result",
          "data": {
            "text/plain": [
              "array(['East Asian', 'Indian', 'Black', 'White', 'Middle Eastern',\n",
              "       'Latino_Hispanic', 'Southeast Asian'], dtype=object)"
            ]
          },
          "metadata": {},
          "execution_count": 19
        }
      ],
      "source": [
        "unique_values = pd.read_csv(\"/content/fairface-label-train.csv\")\n",
        "races=unique_values[\"race\"].unique()\n",
        "races"
      ]
    },
    {
      "cell_type": "code",
      "execution_count": 26,
      "metadata": {
        "id": "O3L6goB4Pq5-"
      },
      "outputs": [],
      "source": [
        "IMAGE_SIZE=224\n",
        "\n",
        "class GenderAgeClass(Dataset):\n",
        "  def __init__(self,df,tfms=None):\n",
        "    self.df=df\n",
        "    self.normalize=transforms.Normalize(mean=[0.485, 0.456, 0.406],\n",
        "                                        std=[0.229, 0.224, 0.225])\n",
        "\n",
        "  def __len__(self):\n",
        "    return len(self.df)\n",
        "\n",
        "  def __getitem__(self,ix):\n",
        "    f=self.df.iloc[ix].squeeze()\n",
        "    file=f.file\n",
        "\n",
        "    gen=f.gender==\"Female\"\n",
        "    age=f.age\n",
        "    race=f.race\n",
        "\n",
        "    im=cv2.imread(file)\n",
        "    im-cv2.cvtColor(im,cv2.COLOR_BGR2RGB)\n",
        "\n",
        "    return im,age,gen,race\n",
        "\n",
        "\n",
        "  def preprocess_image(self, im):\n",
        "    im = cv2.resize(im, (IMAGE_SIZE, IMAGE_SIZE))\n",
        "    im = torch.tensor(im).permute(2,0,1)\n",
        "    im = self.normalize(im/255.)\n",
        "\n",
        "    return im[None]\n",
        "\n",
        "  def collate_fn(self,batch):\n",
        "    ims,ages,genders,races=[],[],[],[]\n",
        "    for im,age,gender,race in batch:\n",
        "      im=self.preprocess_image(im)\n",
        "      ims.append(im)\n",
        "\n",
        "      races.append(int(race))\n",
        "      ages.append(float(int(age)/80))\n",
        "      genders.append(float(gender))\n",
        "\n",
        "    ages,genders,races=[torch.tensor(x).to(device).float() for x in [ages,genders,races]]\n",
        "    ims=torch.cat(ims).to(device)\n",
        "\n",
        "    return ims,ages,genders,races"
      ]
    },
    {
      "cell_type": "code",
      "execution_count": 27,
      "metadata": {
        "id": "sA3k1tGuSNEB"
      },
      "outputs": [],
      "source": [
        "trn=GenderAgeClass(trn_df)\n",
        "val=GenderAgeClass(val_df)"
      ]
    },
    {
      "cell_type": "code",
      "execution_count": 147,
      "metadata": {
        "colab": {
          "base_uri": "https://localhost:8080/"
        },
        "id": "X1S2yVq0SQ3t",
        "outputId": "16031d74-3fb0-4947-b5d6-c189e183f091"
      },
      "outputs": [
        {
          "output_type": "stream",
          "name": "stdout",
          "text": [
            "tensor([3., 5., 0., 3., 1., 2., 2., 6., 3., 3., 2., 6., 4., 0., 1., 2., 3., 5.,\n",
            "        6., 4., 3., 2., 1., 3., 3., 4., 4., 2., 4., 3., 0., 0.],\n",
            "       device='cuda:0')\n",
            "tensor([3., 3., 6., 6., 3., 6., 6., 3., 6., 6., 6., 3., 3., 6., 3., 3., 6., 3.,\n",
            "        3., 6., 3., 3., 3., 3., 6., 6., 3., 3., 3., 6., 6., 3.],\n",
            "       device='cuda:0')\n"
          ]
        },
        {
          "output_type": "execute_result",
          "data": {
            "text/plain": [
              "tensor(417.0994, device='cuda:0')"
            ]
          },
          "metadata": {},
          "execution_count": 147
        }
      ],
      "source": [
        "train_loader=DataLoader(trn,batch_size=32,shuffle=True,drop_last=True,collate_fn=trn.collate_fn)\n",
        "test_loader=DataLoader(val,batch_size=32,collate_fn=val.collate_fn)\n",
        "a,b,c,d=next(iter(train_loader))\n",
        "#print(a.shape,b.shape,c.shape,d.shape)\n",
        "age,gender,race=model(a)\n",
        "print(d)\n",
        "print(race)\n",
        "#print(race)\n",
        "loss_function=nn.CrossEntropyLoss()\n",
        "loss=loss_function(race,d)\n",
        "loss"
      ]
    },
    {
      "cell_type": "code",
      "execution_count": 148,
      "metadata": {
        "id": "tTRQ6-P4SS6y"
      },
      "outputs": [],
      "source": [
        "def get_model():\n",
        "  weights=models.MobileNet_V3_Large_Weights.DEFAULT\n",
        "  model=models.mobilenet_v3_large(weights=weights)\n",
        "\n",
        "  for param in model.parameters():\n",
        "    param.requires_grad=False\n",
        "\n",
        "  model.avgpool=nn.Sequential(\n",
        "    nn.Conv2d(960,960,kernel_size=3),\n",
        "    nn.MaxPool2d(2),\n",
        "    nn.ReLU(),\n",
        "    nn.Flatten(),\n",
        "  )\n",
        "\n",
        "\n",
        "  class AgeGenderClassifier(nn.Module):\n",
        "    def __init__(self):\n",
        "      super().__init__()\n",
        "      self.intermediate=nn.Sequential(\n",
        "          nn.Linear(3840,512),\n",
        "          nn.ReLU(),\n",
        "          nn.Dropout(0,4),\n",
        "          nn.Linear(512,128),\n",
        "          nn.ReLU(),\n",
        "          nn.Dropout(0,4),\n",
        "          nn.Linear(128,64),\n",
        "          nn.ReLU()\n",
        "      )\n",
        "\n",
        "      self.age_classifier = nn.Sequential(\n",
        "          nn.Linear(64,1),\n",
        "          nn.Sigmoid()\n",
        "      )\n",
        "\n",
        "      self.gender_classifier=nn.Sequential(\n",
        "          nn.Linear(64,1),\n",
        "          nn.Sigmoid()\n",
        "      )\n",
        "\n",
        "      self.race_classifer=nn.Sequential(\n",
        "          nn.Linear(64,7),\n",
        "      )\n",
        "\n",
        "    def forward(self,x):\n",
        "      x=self.intermediate(x)\n",
        "      age=self.age_classifier(x)\n",
        "      gender=self.gender_classifier(x)\n",
        "      race=self.race_classifer(x)\n",
        "      race=torch.argmax(torch.softmax(race,dim=1),dim=1).to(torch.float32)\n",
        "\n",
        "      return gender,age,race\n",
        "\n",
        "  model.classifier=AgeGenderClassifier()\n",
        "\n",
        "\n",
        "  gender_criterion=nn.BCELoss()\n",
        "  age_criterion=nn.L1Loss()\n",
        "  race_criterion=nn.CrossEntropyLoss()\n",
        "\n",
        "  loss_functions=gender_criterion,age_criterion,race_criterion\n",
        "\n",
        "  optimizer=torch.optim.SGD(model.parameters(),lr=1e-3)\n",
        "\n",
        "  return model.to(device),loss_functions,optimizer"
      ]
    },
    {
      "cell_type": "code",
      "execution_count": 61,
      "metadata": {
        "id": "fEwSz7S_YMl4"
      },
      "outputs": [],
      "source": [
        "model,criterion,optimizer=get_model()"
      ]
    },
    {
      "cell_type": "code",
      "execution_count": 70,
      "metadata": {
        "id": "JPcDZJD3YvYa"
      },
      "outputs": [],
      "source": [
        "def train_batch(data,model,optimizer,criteria):\n",
        "  model.train()\n",
        "  ims ,age ,gender,race= data\n",
        "\n",
        "  optimizer.zero_grad()\n",
        "\n",
        "  pred_gender,pred_age,pred_race=model(ims)\n",
        "\n",
        "  gender_criterion,age_criterion,race_criterion=criteria\n",
        "\n",
        "  race_loss=race_criterion(pred_race.squeeze(),race)\n",
        "  gender_loss=gender_criterion(pred_gender.squeeze(),gender)\n",
        "  age_loss=age_criterion(pred_age.squeeze(),gender)\n",
        "\n",
        "  total_loss=gender_loss+age_loss+race_loss\n",
        "  total_loss.backward()\n",
        "\n",
        "  optimizer.step()\n",
        "\n",
        "  return total_loss\n",
        "\n",
        "\n",
        "def validate_batch(data,model,criteria):\n",
        "  img ,age ,gender,race= data\n",
        "  model.eval()\n",
        "  with torch.inference_mode():\n",
        "    pred_gender,pred_age,pred_race=model(img)\n",
        "\n",
        "  gender_criterion,age_criterion,race_criterion=criteria\n",
        "\n",
        "  gender_loss=gender_criterion(pred_gender.squeeze(),gender)\n",
        "  age_loss=age_criterion(pred_age.squeeze(),age)\n",
        "  race_loss=race_criterion(pred_race.squeeze(),race)\n",
        "\n",
        "\n",
        "  total_loss=gender_loss+age_loss+race_loss\n",
        "\n",
        "  pred_gender=(pred_gender> 0.5).squeeze()\n",
        "  gender_acc=(pred_gender==gender).float().sum()\n",
        "  age_mae=torch.abs(age-pred_age).float().sum()\n",
        "  return total_loss, gender_acc,age_mae"
      ]
    },
    {
      "cell_type": "code",
      "execution_count": 71,
      "metadata": {
        "id": "ZhL8WOf9aW5l"
      },
      "outputs": [],
      "source": [
        "model,criteria,optimizer=get_model()"
      ]
    },
    {
      "cell_type": "code",
      "execution_count": 141,
      "metadata": {
        "id": "LWb3f7LcacAt"
      },
      "outputs": [],
      "source": [
        "epochs=1\n",
        "val_gender_accuracies=[]\n",
        "val_age_maes=[]\n",
        "train_losses=[]\n",
        "val_loss=[]\n",
        "\n",
        "best_test_loss=1000\n",
        "\n",
        "for epoch in range(epochs):\n",
        "\n",
        "  print(f\"Epoch:{epoch+1}/{epochs}\")\n",
        "\n",
        "  epoch_train_loss,epoch_test_loss=0,0\n",
        "  val_age_mae,val_gender_acc,ctr=0,0,0\n",
        "  _n=len(train_loader)\n",
        "\n",
        "  for ix,data in enumerate(train_loader):\n",
        "    if ix%500 == 0 :\n",
        "      print(ix)\n",
        "\n",
        "    loss=train_batch(data,model,optimizer,criteria)\n",
        "    epoch_train_loss+=loss.item()\n",
        "\n",
        "  for ix ,data in enumerate (test_loader):\n",
        "    loss,gender_acc,age_mae=validate_batch(data,model,criteria)\n",
        "\n",
        "    epoch_test_loss+=loss\n",
        "    val_age_mae+=age_mae\n",
        "    val_gender_acc+=gender_acc\n",
        "    ctr+=len(data[0])\n",
        "\n",
        "  val_age_mae/=ctr\n",
        "  val_gender_acc/=ctr\n",
        "  epoch_train_loss/=len(train_loader)\n",
        "  epoch_test_loss/=len(test_loader)\n",
        "\n",
        "  val_gender_accuracies.append(val_gender_acc)\n",
        "  val_age_maes.append(val_age_mae)\n",
        "  best_test_loss = min(best_test_loss, epoch_test_loss)"
      ]
    },
    {
      "cell_type": "code",
      "source": [
        "epochs=1\n",
        "epochs"
      ],
      "metadata": {
        "id": "2wCKd7FDn8jX",
        "colab": {
          "base_uri": "https://localhost:8080/"
        },
        "outputId": "1d9106f3-e959-405e-cc1d-6cbfc87517b8"
      },
      "execution_count": 149,
      "outputs": [
        {
          "output_type": "execute_result",
          "data": {
            "text/plain": [
              "1"
            ]
          },
          "metadata": {},
          "execution_count": 149
        }
      ]
    },
    {
      "cell_type": "code",
      "execution_count": 150,
      "metadata": {
        "id": "DpfZW5gdbjQx",
        "colab": {
          "base_uri": "https://localhost:8080/",
          "height": 487
        },
        "outputId": "b13fb936-2e08-4f0e-f491-e5d846485509"
      },
      "outputs": [
        {
          "output_type": "display_data",
          "data": {
            "text/plain": [
              "<Figure size 1000x500 with 2 Axes>"
            ],
            "image/png": "[encoded data removed]"
          },
          "metadata": {}
        }
      ],
      "source": [
        "cpu_val_gender_accuracies=[t.to('cpu') for t in val_gender_accuracies]\n",
        "cpu_val_age_maes=[t.to('cpu') for t in val_age_maes]\n",
        "epochs_array = np.arange(1,(epochs+1))\n",
        "fig,ax = plt.subplots(1,2,figsize=(10,5))\n",
        "ax = ax.flat\n",
        "ax[0].plot(epochs_array, cpu_val_gender_accuracies, 'bo')\n",
        "ax[1].plot(epochs_array, cpu_val_age_maes, 'r')\n",
        "ax[0].set_xlabel('Epochs') ; ax[1].set_xlabel('Epochs')\n",
        "ax[0].set_ylabel('Accuracy'); ax[1].set_ylabel('MAE')\n",
        "ax[0].set_title('Validation Gender Accuracy')\n",
        "ax[0].set_title('Validation Age Mean-Absolute-Error')\n",
        "plt.show()\n"
      ]
    },
    {
      "cell_type": "code",
      "source": [
        "import pathlib\n",
        "from pathlib import Path\n",
        "\n",
        "model_path=Path(\"model_dict.pt\")\n",
        "torch.save(model.state_dict(),model_path)"
      ],
      "metadata": {
        "id": "viFomrYjBdbV"
      },
      "execution_count": 180,
      "outputs": []
    },
    {
      "cell_type": "code",
      "source": [
        "model_1,_,__=get_model()\n",
        "model_1.load_state_dict(torch.load(model_path))\n",
        "model_1"
      ],
      "metadata": {
        "id": "_nsYqKd_EHog"
      },
      "execution_count": null,
      "outputs": []
    },
    {
      "cell_type": "code",
      "source": [
        "img=cv2.imread(\"/content/test_1.png\")\n",
        "img=trn.preprocess_image(img).to(device)\n",
        "\n",
        "model.eval()\n",
        "gender,age,race=model(img)\n",
        "\n",
        "pred_gender=gender.to('cpu').detach().numpy()\n",
        "pred_age=age.to('cpu').detach().numpy()\n",
        "pred_race=age.to('cpu').squeeze(0).detach().numpy().item()\n",
        "pred_race=np.round(pred_race, decimals=1)*10\n",
        "pred_race=int(pred_race)\n",
        "\n",
        "\n",
        "img=cv2.imread(\"/content/test_1.png\")\n",
        "img=cv2.cvtColor(img, cv2.COLOR_BGR2RGB)\n",
        "\n",
        "print(f\"Prediction: \")\n",
        "print('predicted gender:',np.where(pred_gender[0][0]<0.5, 'Female','Male'),\n",
        "      '; Predicted age: ', int(pred_age[0][0]*80),\n",
        "      '; Predicted race: ', races[pred_race])\n",
        "plt.imshow(img)"
      ],
      "metadata": {
        "id": "rE0sYS2cnXDt"
      },
      "execution_count": null,
      "outputs": []
    },
    {
      "cell_type": "code",
      "source": [],
      "metadata": {
        "id": "IJRcKYPrqliH"
      },
      "execution_count": null,
      "outputs": []
    }
  ],
  "metadata": {
    "accelerator": "GPU",
    "colab": {
      "provenance": [],
      "authorship_tag": "ABX9TyOOB3Gmcb8eLVkh4xQqML78",
      "include_colab_link": true
    },
    "kernelspec": {
      "display_name": "Python 3",
      "name": "python3"
    },
    "language_info": {
      "name": "python"
    }
  },
  "nbformat": 4,
  "nbformat_minor": 0
}